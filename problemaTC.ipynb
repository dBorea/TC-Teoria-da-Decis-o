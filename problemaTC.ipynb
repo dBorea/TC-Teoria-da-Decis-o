{
 "cells": [
  {
   "cell_type": "markdown",
   "metadata": {},
   "source": [
    "#### IMPORTS"
   ]
  },
  {
   "cell_type": "code",
   "execution_count": 1,
   "metadata": {},
   "outputs": [],
   "source": [
    "#Importa os módulos usados\n",
    "\n",
    "import numpy as np\n",
    "import matplotlib.pyplot as plt\n",
    "import copy\n",
    "\n",
    "\n",
    "# Define um tipo de dado similar ao Pascal \"record\" or C \"struct\"\n",
    "\n",
    "class Struct:\n",
    "    pass"
   ]
  },
  {
   "cell_type": "markdown",
   "metadata": {},
   "source": [
    "#### Solução Inicial"
   ]
  },
  {
   "cell_type": "code",
   "execution_count": 4,
   "metadata": {},
   "outputs": [],
   "source": [
    "# Solução inicial\n",
    "def sol_inicial(probdata, apply_heur):\n",
    "    \n",
    "    if True: #apply_heur == False: # EDITAR DEPOIS DE IMPLEMENTAR METAHEURISTICA\n",
    "        x = Struct()\n",
    "        x.solution = np.random.randint(0,1,size=(probdata.nCL, probdata.nPA))\n",
    "        y = Struct()\n",
    "        y.solution = np.random.randint(0,1,size=(1, probdata.nPA))\n",
    "    \n",
    "    else:\n",
    "        x = Struct()\n",
    "        x.solution = np.zeros((probdata.nCL, probdata.nPA))\n",
    "        y = Struct()\n",
    "        y.solution = np.zeros((probdata.nPA))\n",
    "\n",
    "        # IMPLEMENTAR METAHEURÍSTICA CONSTRUTIVA AQUI\n",
    "    \n",
    "    return x, y"
   ]
  },
  {
   "cell_type": "markdown",
   "metadata": {},
   "source": [
    "#### Funções UTIL para definição de dados"
   ]
  },
  {
   "cell_type": "code",
   "execution_count": null,
   "metadata": {},
   "outputs": [],
   "source": [
    "class Cliente:\n",
    "    def __init__(self, x, y, consumo_banda):\n",
    "        self.x = x\n",
    "        self.y = y\n",
    "        self.consumo_banda = consumo_banda\n",
    "\n",
    "    def __repr__(self):\n",
    "        return f\"Cliente(x={self.x}, y={self.y}, consumo_banda={self.consumo_banda})\"\n",
    "\n",
    "# Função para ler os clientes do arquivo\n",
    "def ler_clientes(nome_arquivo):\n",
    "    clientes = []\n",
    "    with open(nome_arquivo, 'r') as arquivo:\n",
    "        linhas = arquivo.readlines()\n",
    "        for linha in linhas:\n",
    "            x, y, consumo_banda = map(float, linha.strip().split(','))\n",
    "            cliente = Cliente(x, y, consumo_banda)\n",
    "            clientes.append(cliente)\n",
    "    return clientes\n",
    "\n",
    "# Uso da função para ler os clientes do arquivo\n",
    "clientes = ler_clientes('clientes.csv')\n",
    "\n",
    "# Exemplo de uso: imprimir os clientes lidos\n",
    "for cliente in clientes:\n",
    "    print(cliente)"
   ]
  },
  {
   "cell_type": "code",
   "execution_count": null,
   "metadata": {},
   "outputs": [],
   "source": [
    "def clientProcessing(clientList, nCL=495, nPA=81**2):\n",
    "\n",
    "    cons = np.zeros(nCL)\n",
    "    dist = np.zeros((nCL, nPA))\n",
    "    exp = np.zeros((nCL, nPA))\n",
    "\n",
    "    cl_index = 0\n",
    "    for cliente in clientList:\n",
    "        cons[cl_index] = cliente.consumo_banda\n",
    "\n",
    "        for PA_index in range(nPA):\n",
    "            PA_x = (PA_index % 81) * 5\n",
    "            PA_y = (PA_index // 81)\n",
    "            dist[cl_index, PA_index] = np.sqrt((cliente.x - PA_x)**2 + (cliente.y - PA_y)**2)\n",
    "\n",
    "\n",
    "\n",
    "    return cons, dist, exp"
   ]
  },
  {
   "cell_type": "code",
   "execution_count": null,
   "metadata": {},
   "outputs": [],
   "source": [
    "for i in range(81**2):\n",
    "    print(i // 81)"
   ]
  },
  {
   "cell_type": "markdown",
   "metadata": {},
   "source": [
    "#### Função definição de dados para o problema"
   ]
  },
  {
   "cell_type": "code",
   "execution_count": null,
   "metadata": {},
   "outputs": [],
   "source": [
    "def probdef(nPA=81**2, nCL=495):\n",
    "    \n",
    "    probdata = Struct()\n",
    "\n",
    "    probdata.CL_cons = 0 # importar consumo dos clientes do .csv # TODO\n",
    "\n",
    "    probdata.PA_cap = 54 # em Mbps\n",
    "    probdata.PA_raio = 84 # em metros\n",
    "    probdata.CL_min_p = 0.05 # porcentagem minima de clientes\n",
    "    probdata.exp_coef = 1 # coeficiente de exposição\n",
    "    probdata.falloff = 1 # fator de decaimento\n",
    "\n",
    "    # CALCULAR DEPOIS\n",
    "    probdata.dist_CL_PA = np.zeros((nCL, nPA)) # distância entre clientes e PAs # TODO\n",
    "    probdata.exp_CL_PA = np.zeros((nCL, nPA)) # exposição dos clientes aos PAs # TODO\n",
    "\n",
    "    probdata.nPA = nPA\n",
    "    probdata.nCL = nCL\n",
    "    probdata.nPA_max = 30\n",
    "\n",
    "    return probdata"
   ]
  },
  {
   "cell_type": "markdown",
   "metadata": {},
   "source": [
    "#### Função penalidades"
   ]
  },
  {
   "cell_type": "code",
   "execution_count": 5,
   "metadata": {},
   "outputs": [],
   "source": [
    "# Função de penalidades para todas as restrições\n",
    "def penalties(x, y, probdata):\n",
    "\n",
    "    # percentual mínimo de clientes\n",
    "    pen_CLmin = probdata.nCL * probdata.CL_min_p - np.sum(x.solution) \n",
    "    pen_CLmin = np.sum(np.where(pen_CLmin <= 0, 0, pen_CLmin)**2)\n",
    "\n",
    "    # limite de consumo dos PAs\n",
    "    pen_PAcap = np.zeros(probdata.nPA)\n",
    "    for i in range(probdata.nPA):\n",
    "        pen_PAcap[i] = np.dot(np.array(probdata.CL_cons), np.array(x.solution[:[i]])) - y.solution[i] * probdata.PA_cap\n",
    "        pen_PAcap[i] = np.sum(np.where(pen_PAcap[i] <= 0, 0, pen_PAcap[i])**2)\n",
    "    \n",
    "    # limite de distância entre PAs e clientes\n",
    "    pen_dist = np.zeros((probdata.nCL, probdata.nPA))\n",
    "    for i in range(probdata.nPA):\n",
    "        for j in probdata.nCL:\n",
    "            pen_dist[j,i] = probdata.dist_CL_PA[j,i] * x.solution[j,i] - y.solution[i] * probdata.PA_raio\n",
    "            pen_dist[j,i] = np.sum(np.where(pen_dist[j,i] <= 0, 0, pen_dist[j,i])**2)\n",
    "\n",
    "    # pelo menos 5% de exposição à rede\n",
    "    pen_CLmin = np.zeros(probdata.nCL)\n",
    "    for j in range(probdata.nCL):\n",
    "        pen_CLmin[j] = 0.05 * 1 - np.dot(np.array(probdata.exp_CL_PA[j]), np.array(y.solution))\n",
    "        pen_CLmin[j] = np.sum(np.where(pen_CLmin[j] <= 0, 0, pen_CLmin[j])**2)\n",
    "    \n",
    "    # no máximo um PA por cliente\n",
    "    pen_PAperCL = np.zeros(probdata.nCL)\n",
    "    for j in range(probdata.nCL):\n",
    "        pen_PAperCL[j] = sum(x.solution[j]) - 1\n",
    "        pen_PAperCL[j] = np.sum(np.where(pen_PAperCL[j] <= 0, 0, pen_PAperCL[j])**2)\n",
    "\n",
    "    # número máximo de PAs\n",
    "    pen_PAmax = sum(y.solution) - probdata.nPA_max\n",
    "\n",
    "    # return all multiplied by U\n",
    "    return 100 * (pen_CLmin + sum(pen_PAcap) + sum(pen_dist) + sum(pen_CLmin) + sum(pen_PAperCL) + pen_PAmax)"
   ]
  },
  {
   "cell_type": "markdown",
   "metadata": {},
   "source": [
    "#### Funções Objetivo"
   ]
  },
  {
   "cell_type": "code",
   "execution_count": 6,
   "metadata": {},
   "outputs": [],
   "source": [
    "# Função objetivo 1: Minimizar número de PAs ativos\n",
    "def fobj_minPA(x, y, probdata):\n",
    "\n",
    "    sol = np.transpose(np.array(y.solution))\n",
    "\n",
    "    y.fitness = np.sum(sol)\n",
    "    y.penalidade = penalties(x, y, probdata)\n",
    "    y.fitness_penalizado = y.fitness + y.penalidade\n",
    "\n",
    "    return y\n",
    "\n",
    "\n",
    "# Função objetivo 2: Minimizar distância cumulativa de clientes e PAs\n",
    "def fobj_mindist(x, y, probdata):\n",
    "\n",
    "    sol = x.solution\n",
    "\n",
    "    fit_matrix = np.multiply(sol, probdata.dist_CL_PA)\n",
    "    x.fitness = sum(fit_matrix)\n",
    "    x.penalidade = penalties(x, y, probdata)\n",
    "    x.fitness_penalizado = x.fitness + x.penalidade\n",
    "\n",
    "    return x"
   ]
  },
  {
   "cell_type": "markdown",
   "metadata": {},
   "source": [
    "#### Funções UTIL para VNS"
   ]
  },
  {
   "cell_type": "code",
   "execution_count": 8,
   "metadata": {},
   "outputs": [],
   "source": [
    "# Shake implementation // TODO: MUDAR HEURISTICAS\n",
    "def shake(x,k,probdata):\n",
    "    \n",
    "    y = copy.deepcopy(x)\n",
    "    r = np.random.permutation(probdata.n)       \n",
    "    \n",
    "    if k == 1:             # apply not operator in one random position\n",
    "        y.solution[r[0]] = not(y.solution[r[0]])\n",
    "        \n",
    "    elif k == 2:           # apply not operator in two random positions        \n",
    "        y.solution[r[0]] = not(y.solution[r[0]])\n",
    "        y.solution[r[1]] = not(y.solution[r[1]])\n",
    "        \n",
    "    elif k == 3:           # apply not operator in three random positions\n",
    "        y.solution[r[0]] = not(y.solution[r[0]])\n",
    "        y.solution[r[1]] = not(y.solution[r[1]])\n",
    "        y.solution[r[2]] = not(y.solution[r[2]])        \n",
    "    \n",
    "    return y\n",
    "\n",
    "# VND implemantation\n",
    "def VND(x, k_max):\n",
    "\n",
    "  k = 1\n",
    "  while k <= k_max:\n",
    "    # Encontra o melhor vizinho na vizinhança atual\n",
    "    x_best = BestImprovement(x)\n",
    "    # Muda a vizinhança\n",
    "    x, k = neighborhoodChange(x, x_best, k)\n",
    "\n",
    "  return x\n",
    "\n",
    "def BestImprovement(x):\n",
    "    x_best = x.copy()  # Cópia da solução inicial para guardar o melhor\n",
    "    while True:\n",
    "        improved = False\n",
    "        for y in generate_neighborhood(x):\n",
    "            if objective_function(y) < objective_function(x):\n",
    "                x = y.copy()  # Atualiza a solução com a melhoria\n",
    "                improved = True\n",
    "                break  # Sai do loop interno se encontrar melhoria\n",
    "        if not improved:\n",
    "            break  # Sai do loop externo se não encontrar melhoria\n",
    "    return x_best\n",
    "\n",
    "def generate_neighborhood(x, k, probdata):\n",
    "    # Gera uma vizinhança de soluções a partir da solução atual para um determinado valor de k.\n",
    "\n",
    "    neighborhood = []\n",
    "\n",
    "    # Gere os vizinhos aplicando shake com o mesmo valor de k\n",
    "    for _ in range(probdata.num_neighbors):  # Determine o número de vizinhos a serem gerados\n",
    "        neighbor = shake(x, k, probdata)\n",
    "        neighborhood.append(neighbor)\n",
    "\n",
    "    return neighborhood\n",
    "\n",
    "# NeighborhoodChange implementation\n",
    "def neighborhoodChange(x, xlinha, k):\n",
    "    \n",
    "    if xlinha.fitness_penalizado < x.fitness_penalizado:\n",
    "        x = copy.deepcopy(xlinha)\n",
    "        k  = 1\n",
    "    else:\n",
    "        k += 1\n",
    "        \n",
    "    return x, k"
   ]
  },
  {
   "cell_type": "markdown",
   "metadata": {},
   "source": [
    "#### VNS IMPLEMENTATION"
   ]
  },
  {
   "cell_type": "code",
   "execution_count": null,
   "metadata": {},
   "outputs": [],
   "source": [
    "from time import time\n",
    "\n",
    "def GVNS(x, l_max, k_max, t_max):\n",
    "  ##  r_max: \n",
    "  ##  k_max: \n",
    "  ##  t_max: \n",
    "  start_time = time()\n",
    "  current_solution = x\n",
    "  best_solution = current_solution.copy()\n",
    "\n",
    "  while True:\n",
    "    k = 1\n",
    "    while k <= k_max:\n",
    "      # Gera uma solução perturbada\n",
    "      perturbed_solution = shake(current_solution, k)\n",
    "\n",
    "      # Aplica VND para refinar a solução perturbada\n",
    "      improved_solution = VND(perturbed_solution.copy(), l_max)\n",
    "\n",
    "      # Muda a vizinhança\n",
    "      best_solution, k = neighborhoodChange(best_solution, improved_solution, k)\n",
    "\n",
    "      # Verifica critério de parada por tempo\n",
    "      if time() - start_time > t_max:\n",
    "        return best_solution\n",
    "\n",
    "    # Verifica critério de parada por iterações da vizinhança\n",
    "    if k > k_max:\n",
    "      break\n",
    "\n",
    "  return best_solution"
   ]
  }
 ],
 "metadata": {
  "kernelspec": {
   "display_name": "Python 3",
   "language": "python",
   "name": "python3"
  },
  "language_info": {
   "codemirror_mode": {
    "name": "ipython",
    "version": 3
   },
   "file_extension": ".py",
   "mimetype": "text/x-python",
   "name": "python",
   "nbconvert_exporter": "python",
   "pygments_lexer": "ipython3",
   "version": "3.11.0"
  }
 },
 "nbformat": 4,
 "nbformat_minor": 2
}
