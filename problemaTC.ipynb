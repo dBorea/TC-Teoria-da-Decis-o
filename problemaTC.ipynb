{
 "cells": [
  {
   "cell_type": "markdown",
   "metadata": {},
   "source": [
    "#### IMPORTS"
   ]
  },
  {
   "cell_type": "code",
   "execution_count": 10,
   "metadata": {},
   "outputs": [],
   "source": [
    "#Importa os módulos usados\n",
    "\n",
    "import numpy as np # type: ignore\n",
    "import matplotlib.pyplot as plt # type: ignore\n",
    "from typing import Dict, List\n",
    "import copy\n",
    "\n",
    "\n",
    "# Define um tipo de dado similar ao Pascal \"record\" or C \"struct\"\n",
    "\n",
    "class Struct:\n",
    "    pass"
   ]
  },
  {
   "cell_type": "markdown",
   "metadata": {},
   "source": [
    "#### Obj Solução"
   ]
  },
  {
   "cell_type": "code",
   "execution_count": 11,
   "metadata": {},
   "outputs": [],
   "source": [
    "class Solucao:\n",
    "    id: int = 0\n",
    "    PAs_ativos: Dict[int, int] = {}\n",
    "    PA_id_por_cliente: Dict[int, int] = {}\n",
    "    fitness_PA_min: float = 0\n",
    "    fitness_PA_min_penalizado: float = 0\n",
    "    fitness_dist_min: float = 0\n",
    "    fitness_dist_min_penalizado: float = 0\n",
    "    porcentagem_CL_antendidos = 0\n",
    "    nCL_por_PA: Dict[int, int] = {}"
   ]
  },
  {
   "cell_type": "markdown",
   "metadata": {},
   "source": [
    "#### Solução Inicial"
   ]
  },
  {
   "cell_type": "code",
   "execution_count": 13,
   "metadata": {},
   "outputs": [],
   "source": [
    "# heuristica\n",
    "\n",
    "def heuristica_insercao_mais_proxima(clientes, num_pontos_acesso):\n",
    "    sol = Solucao()\n",
    "\n",
    "    # Calcular distância euclidiana entre clientes e pontos de acesso\n",
    "    distancias = np.zeros((len(clientes), num_pontos_acesso))\n",
    "    for i, cliente in enumerate(clientes):\n",
    "        for j in range(num_pontos_acesso):\n",
    "            distancias[i, j] = np.sqrt((cliente.x - j) ** 2 + (cliente.y - j) ** 2)\n",
    "\n",
    "    # Atribuir cada cliente ao ponto de acesso mais próximo\n",
    "    for j in range(len(clientes)):\n",
    "        distancias_cliente = distancias[j]\n",
    "        pa_mais_proximo = np.argmin(distancias_cliente)\n",
    "        sol.PA_id_por_cliente[j] = pa_mais_proximo  # Dá o PA mais proximo como ativo para o cliente j\n",
    "        sol.PAs_ativos[pa_mais_proximo] = 1  # Ativa o PA mais próximo\n",
    "\n",
    "    return sol\n",
    "\n",
    "# Solução inicial\n",
    "def sol_inicial(probdata):\n",
    "    \n",
    "    sol = heuristica_insercao_mais_proxima(probdata.clientes, probdata.nPA)\n",
    "\n",
    "    return sol"
   ]
  },
  {
   "cell_type": "markdown",
   "metadata": {},
   "source": [
    "#### Funções UTIL para definição de dados"
   ]
  },
  {
   "cell_type": "code",
   "execution_count": 22,
   "metadata": {},
   "outputs": [],
   "source": [
    "class Cliente:\n",
    "    def __init__(self, x, y, consumo_banda):\n",
    "        self.x = x\n",
    "        self.y = y\n",
    "        self.consumo_banda = consumo_banda\n",
    "\n",
    "    def __repr__(self):\n",
    "        return f\"Cliente(x={self.x}, y={self.y}, consumo_banda={self.consumo_banda})\"\n",
    "\n",
    "# Função para ler os clientes do arquivo\n",
    "def ler_clientes(nome_arquivo):\n",
    "    clientes = []\n",
    "    with open(nome_arquivo, 'r') as arquivo:\n",
    "        linhas = arquivo.readlines()\n",
    "        for linha in linhas:\n",
    "            x, y, consumo_banda = map(float, linha.strip().split(','))\n",
    "            cliente = Cliente(x, y, consumo_banda)\n",
    "            clientes.append(cliente)\n",
    "    return clientes"
   ]
  },
  {
   "cell_type": "code",
   "execution_count": 23,
   "metadata": {},
   "outputs": [],
   "source": [
    "def clientProcessing(clientList, nCL=495, nPA=81**2):\n",
    "\n",
    "    cons = np.zeros(nCL)\n",
    "    dist = np.zeros((nCL, nPA))\n",
    "    exp = np.zeros((nCL, nPA))\n",
    "\n",
    "    cl_index = 0\n",
    "    for cliente in clientList:\n",
    "        cons[cl_index] = cliente.consumo_banda\n",
    "\n",
    "        for PA_index in range(nPA):\n",
    "            PA_x = (PA_index % 81) * 5\n",
    "            PA_y = (PA_index // 81) * 5\n",
    "            \n",
    "            dist[cl_index, PA_index] = np.sqrt((cliente.x - PA_x)**2 + (cliente.y - PA_y)**2)\n",
    "            #if PA_index % 81 == 80 & PA_index // 81 == 80:\n",
    "            #    print(PA_x, end=\"-\")\n",
    "            #    print(PA_y, end=\" to \")\n",
    "            #    print(cliente.x, end=\"-\")\n",
    "            #    print(cliente.y, end=\": \")\n",
    "            #    print(dist[cl_index, PA_index])\n",
    "            exp[cl_index, PA_index] = 1/dist[cl_index, PA_index]\n",
    "\n",
    "        cl_index += 1\n",
    "\n",
    "    return cons, dist, exp"
   ]
  },
  {
   "cell_type": "markdown",
   "metadata": {},
   "source": [
    "#### Função definição de dados para o problema"
   ]
  },
  {
   "cell_type": "code",
   "execution_count": 12,
   "metadata": {},
   "outputs": [],
   "source": [
    "def probdef(nPA=81**2, nCL=495):\n",
    "    \n",
    "    probdata = Struct()\n",
    "\n",
    "    # Uso da função para ler os clientes do arquivo\n",
    "    probdata.clientes = ler_clientes('data/clientes.csv')\n",
    "\n",
    "    C, D, E = clientProcessing(probdata.clientes)\n",
    "\n",
    "    probdata.CL_cons = C # importar consumo dos clientes do .csv\n",
    "    probdata.dist_CL_PA = D # distância entre clientes e PAs\n",
    "    probdata.exp_CL_PA = E # exposição dos clientes aos PAs\n",
    "\n",
    "    probdata.PA_cap = 54 # em Mbps\n",
    "    probdata.PA_raio = 84 # em metros\n",
    "    probdata.CL_min_p = 0.05 # porcentagem minima de clientes\n",
    "    probdata.exp_coef = 1 # coeficiente de exposição\n",
    "    probdata.falloff = 1 # fator de decaimento\n",
    "\n",
    "    probdata.nPA = nPA\n",
    "    probdata.nCL = nCL\n",
    "    probdata.nPA_max = 30\n",
    "\n",
    "    return probdata"
   ]
  },
  {
   "cell_type": "markdown",
   "metadata": {},
   "source": [
    "#### Função penalidades"
   ]
  },
  {
   "cell_type": "code",
   "execution_count": 24,
   "metadata": {},
   "outputs": [],
   "source": [
    "def penalties(ponto_de_acesso_id: int, sol: Solucao, probdata: Struct):\n",
    "    soma_do_consumo = 0\n",
    "\n",
    "    for cliente in probdata.CL_list:\n",
    "        # se o ponto ainda nao esta atendido\n",
    "        cliente_nao_atendido = sol.porcentagem_CL_antendidos[cliente.id] == -1\n",
    "        # se o ponto nao fara com que o ponto de acesso fique sobrecarregado com a banda necessária\n",
    "        banda_suportada = (soma_do_consumo + cliente.consumo_de_banda) <= probdata.PA_cap\n",
    "        # se o ponto esta dentro do alcance do PA\n",
    "        cliente_dentro_do_range = probdata.dist_PA_CL[ponto_de_acesso_id][cliente.id] <= probdata.PA_raio\n",
    "        \n",
    "        if ( cliente_nao_atendido and banda_suportada and cliente_dentro_do_range ):\n",
    "            cliente.id = ponto_de_acesso_id\n",
    "            soma_do_consumo += cliente.consumo_de_banda\n",
    "            sol.porcentagem_CL_antendidos[cliente.id] = ponto_de_acesso_id"
   ]
  },
  {
   "cell_type": "markdown",
   "metadata": {},
   "source": [
    "#### Funções Objetivo"
   ]
  },
  {
   "cell_type": "code",
   "execution_count": 6,
   "metadata": {},
   "outputs": [],
   "source": [
    "# Função objetivo 1: Minimizar número de PAs ativos\n",
    "def fobj_minPA(x, y, probdata):\n",
    "\n",
    "    sol = np.transpose(np.array(y.solution))\n",
    "\n",
    "    y.fitness = np.sum(sol)\n",
    "    y.penalidade = penalties(x, y, probdata)\n",
    "    y.fitness_penalizado = y.fitness + y.penalidade\n",
    "\n",
    "    return y\n",
    "\n",
    "\n",
    "# Função objetivo 2: Minimizar distância cumulativa de clientes e PAs\n",
    "def fobj_mindist(x, y, probdata):\n",
    "\n",
    "    sol = x.solution\n",
    "\n",
    "    fit_matrix = np.multiply(sol, probdata.dist_CL_PA)\n",
    "    x.fitness = sum(fit_matrix)\n",
    "    x.penalidade = penalties(x, y, probdata)\n",
    "    x.fitness_penalizado = x.fitness + x.penalidade\n",
    "\n",
    "    return x"
   ]
  },
  {
   "cell_type": "markdown",
   "metadata": {},
   "source": [
    "#### Funções UTIL para VNS"
   ]
  },
  {
   "cell_type": "code",
   "execution_count": 8,
   "metadata": {},
   "outputs": [],
   "source": [
    "# Shake implementation // TODO: MUDAR HEURISTICAS\n",
    "def shake(sol: Solucao, k, probdata):\n",
    "    \n",
    "    y = copy.deepcopy(x)\n",
    "    r = np.random.permutation(probdata.n)       \n",
    "    \n",
    "    if k == 1:             # apply not operator in one random position\n",
    "        y.solution[r[0]] = not(y.solution[r[0]])\n",
    "        \n",
    "    elif k == 2:           # apply not operator in two random positions        \n",
    "        y.solution[r[0]] = not(y.solution[r[0]])\n",
    "        y.solution[r[1]] = not(y.solution[r[1]])\n",
    "        \n",
    "    elif k == 3:           # apply not operator in three random positions\n",
    "        y.solution[r[0]] = not(y.solution[r[0]])\n",
    "        y.solution[r[1]] = not(y.solution[r[1]])\n",
    "        y.solution[r[2]] = not(y.solution[r[2]])        \n",
    "    \n",
    "    return y\n",
    "\n",
    "# VND implemantation\n",
    "def VND(x, k_max, probdata):\n",
    "\n",
    "  k = 1\n",
    "  while k <= k_max:\n",
    "    # Encontra o melhor vizinho na vizinhança atual\n",
    "    x_best = BestImprovementF1(x, probdata)\n",
    "    # Muda a vizinhança\n",
    "    x, k = neighborhoodChange(x, x_best, k)\n",
    "\n",
    "  return x\n",
    "\n",
    "def BestImprovementF1(x, probdata):\n",
    "    x_best = x.copy()  # Cópia da solução inicial para guardar o melhor\n",
    "    while True:\n",
    "        improved = False\n",
    "        for y in generate_neighborhood(x):\n",
    "            if fobj_mindist(y, probdata) < fobj_mindist(x, probdata):\n",
    "                x = y.copy()  # Atualiza a solução com a melhoria\n",
    "                improved = True\n",
    "                break  # Sai do loop interno se encontrar melhoria\n",
    "        if not improved:\n",
    "            break  # Sai do loop externo se não encontrar melhoria\n",
    "    return x_best\n",
    "\n",
    "def BestImprovementF2(x, probdata):\n",
    "    x_best = x.copy()  # Cópia da solução inicial para guardar o melhor\n",
    "    while True:\n",
    "        improved = False\n",
    "        for y in generate_neighborhood(x):\n",
    "            if fobj_minPA(y, probdata) < fobj_minPA(x, probdata):\n",
    "                x = y.copy()  # Atualiza a solução com a melhoria\n",
    "                improved = True\n",
    "                break  # Sai do loop interno se encontrar melhoria\n",
    "        if not improved:\n",
    "            break  # Sai do loop externo se não encontrar melhoria\n",
    "    return x_best\n",
    "\n",
    "def generate_neighborhood(x, k, probdata):\n",
    "    # Gera uma vizinhança de soluções a partir da solução atual para um determinado valor de k.\n",
    "\n",
    "    neighborhood = []\n",
    "\n",
    "    # Gere os vizinhos aplicando shake com o mesmo valor de k\n",
    "    for _ in range(probdata.num_neighbors):  # Determine o número de vizinhos a serem gerados\n",
    "        neighbor = shake(x, k, probdata)\n",
    "        neighborhood.append(neighbor)\n",
    "\n",
    "    return neighborhood\n",
    "\n",
    "# NeighborhoodChange implementation\n",
    "def neighborhoodChange(x, xlinha, k):\n",
    "    \n",
    "    if xlinha.fitness_penalizado < x.fitness_penalizado:\n",
    "        x = copy.deepcopy(xlinha)\n",
    "        k  = 1\n",
    "    else:\n",
    "        k += 1\n",
    "        \n",
    "    return x, k"
   ]
  },
  {
   "cell_type": "markdown",
   "metadata": {},
   "source": [
    "#### Refinamento(Busca Local)"
   ]
  },
  {
   "cell_type": "code",
   "execution_count": null,
   "metadata": {},
   "outputs": [],
   "source": [
    "def avaliar_solucao(solucao_x, solucao_y, clientes):\n",
    "    num_clientes, num_pontos_acesso = solucao_x.shape\n",
    "    custo_total = 0\n",
    "\n",
    "    # Calcular o custo total da solução\n",
    "    for i in range(num_clientes):\n",
    "        for j in range(num_pontos_acesso):\n",
    "            custo_total += solucao_x[i, j] * clientes[j].consumo_banda * solucao_y[i]\n",
    "\n",
    "    return custo_total\n",
    "\n",
    "def busca_local(solucao_x, solucao_y, clientes, num_clientes, max_iter):\n",
    "    melhor_solucao_x = np.copy(solucao_x)\n",
    "    melhor_solucao_y = np.copy(solucao_y)\n",
    "    melhor_avaliacao = avaliar_solucao(melhor_solucao_x, melhor_solucao_y)\n",
    "\n",
    "    for _ in range(max_iter):\n",
    "        # Faça uma perturbação na solução atual (por exemplo, trocando aleatoriamente alguns clientes entre pontos de acesso) chamar shake\n",
    "\n",
    "        # Refine a solução perturbada usando uma heurística local (por exemplo, troca de clientes entre pontos de acesso para melhorar a solução)\n",
    "\n",
    "        # Avalie a nova solução\n",
    "        avaliacao = avaliar_solucao(solucao_x, solucao_y)\n",
    "\n",
    "        # Atualize a melhor solução se a nova solução for melhor\n",
    "        if avaliacao < melhor_avaliacao:\n",
    "            melhor_solucao_x = np.copy(solucao_x)\n",
    "            melhor_solucao_y = np.copy(solucao_y)\n",
    "            melhor_avaliacao = avaliacao\n",
    "\n",
    "    return melhor_solucao_x, melhor_solucao_y"
   ]
  },
  {
   "cell_type": "markdown",
   "metadata": {},
   "source": [
    "#### VNS IMPLEMENTATION"
   ]
  },
  {
   "cell_type": "code",
   "execution_count": null,
   "metadata": {},
   "outputs": [],
   "source": [
    "from time import time\n",
    "\n",
    "def GVNS(x, l_max, k_max, t_max):\n",
    "  ##  r_max: \n",
    "  ##  k_max: \n",
    "  ##  t_max: \n",
    "  start_time = time()\n",
    "  current_solution = x\n",
    "  best_solution = current_solution.copy()\n",
    "\n",
    "  while True:\n",
    "    k = 1\n",
    "    while k <= k_max:\n",
    "      # Gera uma solução perturbada\n",
    "      perturbed_solution = shake(current_solution, k)\n",
    "\n",
    "      # Aplica VND para refinar a solução perturbada\n",
    "      improved_solution = VND(perturbed_solution.copy(), l_max)\n",
    "\n",
    "      # Muda a vizinhança\n",
    "      best_solution, k = neighborhoodChange(best_solution, improved_solution, k)\n",
    "\n",
    "      # Verifica critério de parada por tempo\n",
    "      if time() - start_time > t_max:\n",
    "        return best_solution\n",
    "\n",
    "    # Verifica critério de parada por iterações da vizinhança\n",
    "    if k > k_max:\n",
    "      break\n",
    "\n",
    "  return best_solution"
   ]
  }
 ],
 "metadata": {
  "kernelspec": {
   "display_name": "Python 3",
   "language": "python",
   "name": "python3"
  },
  "language_info": {
   "codemirror_mode": {
    "name": "ipython",
    "version": 3
   },
   "file_extension": ".py",
   "mimetype": "text/x-python",
   "name": "python",
   "nbconvert_exporter": "python",
   "pygments_lexer": "ipython3",
   "version": "3.11.9"
  }
 },
 "nbformat": 4,
 "nbformat_minor": 2
}
