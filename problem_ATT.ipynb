{
 "cells": [
  {
   "cell_type": "markdown",
   "metadata": {},
   "source": [
    "#### IMPORTS"
   ]
  },
  {
   "cell_type": "code",
   "execution_count": 3,
   "metadata": {},
   "outputs": [],
   "source": [
    "#Importa os módulos usados\n",
    "\n",
    "import numpy as np # type: ignore\n",
    "import matplotlib.pyplot as plt # type: ignore\n",
    "from typing import Dict, List\n",
    "import copy\n",
    "\n",
    "\n",
    "# Define um tipo de dado similar ao Pascal \"record\" or C \"struct\"\n",
    "\n",
    "class Struct:\n",
    "    pass\n",
    "\n",
    "INVALID: int = -1"
   ]
  },
  {
   "cell_type": "markdown",
   "metadata": {},
   "source": [
    "#### Utils de leitura do CSV"
   ]
  },
  {
   "cell_type": "code",
   "execution_count": 9,
   "metadata": {},
   "outputs": [],
   "source": [
    "class Cliente:\n",
    "    def __init__(self, x, y, consumo_banda):\n",
    "        self.x = x\n",
    "        self.y = y\n",
    "        self.consumo_banda = consumo_banda\n",
    "        self.connected_PA_id = INVALID\n",
    "        self.id = INVALID\n",
    "\n",
    "    def __repr__(self):\n",
    "        return f\"Cliente(x={self.x}, y={self.y}, consumo_banda={self.consumo_banda})\"\n",
    "\n",
    "# Função para ler os clientes do arquivo\n",
    "def ler_clientes(nome_arquivo):\n",
    "    clientes = []\n",
    "    with open(nome_arquivo, 'r') as arquivo:\n",
    "        linhas = arquivo.readlines()\n",
    "        for linha in linhas:\n",
    "            x, y, consumo_banda = map(float, linha.strip().split(','))\n",
    "            cliente = Cliente(x, y, consumo_banda)\n",
    "            clientes.append(cliente)\n",
    "\n",
    "        index = 0\n",
    "        for cliente in clientes:\n",
    "            cliente.id = index\n",
    "            index += 1\n",
    "\n",
    "    return clientes"
   ]
  },
  {
   "cell_type": "code",
   "execution_count": 10,
   "metadata": {},
   "outputs": [],
   "source": [
    "def clientProcessing(clientList, nCL=495, nPA=81**2):\n",
    "\n",
    "    cons = np.zeros(nCL)\n",
    "    dist = np.zeros((nCL, nPA))\n",
    "    exp = np.zeros((nCL, nPA))\n",
    "\n",
    "    cl_index = 0\n",
    "    for cliente in clientList:\n",
    "        cons[cl_index] = cliente.consumo_banda\n",
    "\n",
    "        for PA_index in range(nPA):\n",
    "            PA_x = (PA_index % 81) * 5\n",
    "            PA_y = (PA_index // 81) * 5\n",
    "            \n",
    "            dist[cl_index, PA_index] = np.sqrt((cliente.x - PA_x)**2 + (cliente.y - PA_y)**2)\n",
    "            exp[cl_index, PA_index] = 1/dist[cl_index, PA_index]\n",
    "\n",
    "        cl_index += 1\n",
    "\n",
    "    return cons, dist, exp"
   ]
  },
  {
   "cell_type": "markdown",
   "metadata": {},
   "source": [
    "#### Classe Solução"
   ]
  },
  {
   "cell_type": "code",
   "execution_count": 15,
   "metadata": {},
   "outputs": [],
   "source": [
    "class Solucao:\n",
    "    id: int = 0\n",
    "    sol_PAs_ativos: Dict[int, int] = {}\n",
    "    sol_PA_id_por_cliente: Dict[int, int] = {}\n",
    "    fitness_PA_min: float = 0\n",
    "    fitness_PA_min_penalizado: float = 0\n",
    "    fitness_dist_min: float = 0\n",
    "    fitness_dist_min_penalizado: float = 0\n",
    "    porcentagem_CL_antendidos = 0\n",
    "    nCL_por_PA: Dict[int, int] = {}\n",
    "\n",
    "    def __init__(self) -> None:\n",
    "        self.id: int = 0\n",
    "        self.sol_PAs_ativos: Dict[int, int] = {}\n",
    "        self.sol_PA_id_por_cliente: Dict[int, int] = {}\n",
    "        self.fitness_PA_min: float = 0\n",
    "        self.fitness_PA_min_penalizado: float = 0\n",
    "        self.fitness_dist_min: float = 0\n",
    "        self.fitness_dist_min_penalizado: float = 0\n",
    "        self.porcentagem_CL_antendidos = 0\n",
    "        self.nCL_por_PA: Dict[int, int] = {}"
   ]
  },
  {
   "cell_type": "markdown",
   "metadata": {},
   "source": [
    "#### Dados do problema"
   ]
  },
  {
   "cell_type": "code",
   "execution_count": 6,
   "metadata": {},
   "outputs": [],
   "source": [
    "class AccessPoint:\n",
    "    id: int = 0\n",
    "    x: int = 0\n",
    "    y: int = 0\n",
    "    nCL_in_range: int = 0"
   ]
  },
  {
   "cell_type": "code",
   "execution_count": 16,
   "metadata": {},
   "outputs": [],
   "source": [
    "class ProblemData:\n",
    "    PA_list: List[AccessPoint] = []\n",
    "    CL_list: List[Cliente] = []\n",
    "    dist_PA_CL: Dict[int, Dict[int, float]] = np.empty((81**2, 495))\n",
    "    min_CL_rate: float = 0.05\n",
    "    nCL: int = 495\n",
    "    nPA: int = 81**2"
   ]
  },
  {
   "cell_type": "code",
   "execution_count": 13,
   "metadata": {},
   "outputs": [],
   "source": [
    "def probdef(nPA=81**2, nCL=495):\n",
    "    \n",
    "    probdata = ProblemData()\n",
    "\n",
    "    # Uso da função para ler os clientes do arquivo\n",
    "    probdata.CL_list = ler_clientes('data/clientes.csv')\n",
    "\n",
    "    for id in range(0, nPA):\n",
    "        PA_x = (id % 81) * 5\n",
    "        PA_y = (id // 81) * 5\n",
    "        probdata.PA_list.append(PontoDeAcesso(PA_x, PA_y, id))\n",
    "\n",
    "    for PA in probdata.PA_list:\n",
    "        for CL in probdata.CL_list:\n",
    "            probdata.dist_PA_CL[PA.id][CL.id] = ((PA.x - CL.x)**2 + (PA.y - CL.y)**2) ** 0.5\n",
    "\n",
    "            if(probdata.dist_PA_CL[PA.id][CL.id] <= 84):\n",
    "                PA.nCL_in_range += 1\n",
    "    \n",
    "    return probdata\n",
    "\n",
    "    probdata.PA_cap = 54 # em Mbps\n",
    "    probdata.PA_raio = 84 # em metros\n",
    "    probdata.CL_min_p = 0.05 # porcentagem minima de clientes\n",
    "    probdata.nPA_max = 30\n",
    "\n",
    "    return probdata"
   ]
  },
  {
   "cell_type": "markdown",
   "metadata": {},
   "source": [
    "#### Solução inicial"
   ]
  },
  {
   "cell_type": "code",
   "execution_count": 14,
   "metadata": {},
   "outputs": [],
   "source": [
    "# heuristica inserção mais proxima\n",
    "# Solução inicial\n",
    "def sol_inicial(probdata):\n",
    "    sol = Solucao()\n",
    "    \n",
    "     # Calcular distância euclidiana entre clientes e pontos de acesso\n",
    "    distancias = np.zeros((probdata.nCL, probdata.nPA))\n",
    "    for i, CL in enumerate(probdata.CL_list):\n",
    "        for j, PA in enumerate(probdata.PA_list):\n",
    "            distancias[i, j] = np.sqrt((CL.x - PA.x) ** 2 + (CL.y - PA.y) ** 2)\n",
    "\n",
    "    # Atribuir cada cliente ao ponto de acesso mais próximo\n",
    "    for j in range(len(clientes)):\n",
    "        distancias_cliente = distancias[j]\n",
    "        pa_mais_proximo = np.argmin(distancias_cliente)\n",
    "        sol.sol_PA_id_por_cliente[j] = pa_mais_proximo  # Dá o PA mais proximo como ativo para o cliente j\n",
    "        sol.sol_PAs_ativos[pa_mais_proximo] = 1  # Ativa o PA mais próximo\n",
    "\n",
    "    return sol"
   ]
  },
  {
   "cell_type": "markdown",
   "metadata": {},
   "source": [
    "#### Função Penalidades Generalizadas"
   ]
  },
  {
   "cell_type": "code",
   "execution_count": 17,
   "metadata": {},
   "outputs": [],
   "source": [
    "# Função de penalidades para todas as restrições\n",
    "def penalties(sol, probdata):\n",
    "\n",
    "    # percentual mínimo de clientes\n",
    "    pen_CLmin = probdata.nCL * probdata.CL_min_p - np.sum(sol.sol_PAs_ativos.values())\n",
    "    pen_CLmin = np.sum(np.where(pen_CLmin <= 0, 0, pen_CLmin)**2)\n",
    "\n",
    "    # limite de consumo dos PAs\n",
    "    pen_PAcap = np.zeros(probdata.nPA)\n",
    "    for i in range(probdata.nPA):\n",
    "        #Acha a lista de id de clientes que possuem conexão ativa com o PA i\n",
    "        CLs_ids = sol_PA_id_por_cliente.keys()[sol_PA_id_por_cliente.values.index(i)]\n",
    "\n",
    "        consumo_total = 0\n",
    "        index = 0\n",
    "        for CL in (probdata.CL_list):\n",
    "            if index in CLs_ids:\n",
    "                consumo_total += CL.consumo_banda\n",
    "            index += 1\n",
    "        \n",
    "        current_PA_ativo = 0\n",
    "        if i in sol.sol_PAs_ativos:\n",
    "            current_PA_ativo = 1\n",
    "\n",
    "        pen_PAcap[i] = consumo_total - current_PA_ativo * probdata.PA_cap\n",
    "        pen_PAcap[i] = np.sum(np.where(pen_PAcap[i] <= 0, 0, pen_PAcap[i])**2)\n",
    "    \n",
    "    # limite de distância entre PAs e clientes\n",
    "    pen_dist = np.zeros((probdata.nCL, probdata.nPA))\n",
    "    for i, PA in enumerate(probdata.PA_list):\n",
    "        #Acha a lista de id de clientes que possuem conexão ativa com o PA i\n",
    "        CLs_ids = sol_PA_id_por_cliente.keys()[sol_PA_id_por_cliente.values.index(i)]\n",
    "        for j, CL in enumerate(probdata.CL_list):\n",
    "\n",
    "            areTheyConnected = 0\n",
    "            if CL.id in CLs_ids:\n",
    "                areTheyConnected = 1\n",
    "            \n",
    "            current_PA_ativo = 0\n",
    "            if PA.id in sol.sol_PAs_ativos:\n",
    "                current_PA_ativo = 1\n",
    "\n",
    "            pen_dist[j,i] = probdata.dist_PA_CL[PA.id, CL.id] * areTheyConnected - current_PA_ativo * probdata.PA_raio\n",
    "            pen_dist[j,i] = np.sum(np.where(pen_dist[j,i] <= 0, 0, pen_dist[j,i])**2)\n",
    "\n",
    "    # pelo menos 5% de exposição à rede\n",
    "    pen_CLmin = np.zeros(probdata.nCL)\n",
    "    for j in range(probdata.nCL):\n",
    "        pen_CLmin[j] = 0.05 * 1 - np.dot(np.array(probdata.exp_CL_PA[j]), np.array(y.solution))\n",
    "        pen_CLmin[j] = np.sum(np.where(pen_CLmin[j] <= 0, 0, pen_CLmin[j])**2)\n",
    "    \n",
    "    # no máximo um PA por cliente\n",
    "    pen_PAperCL = np.zeros(probdata.nCL)\n",
    "    for j in range(probdata.nCL):\n",
    "        pen_PAperCL[j] = sum(x.solution[j]) - 1\n",
    "        pen_PAperCL[j] = np.sum(np.where(pen_PAperCL[j] <= 0, 0, pen_PAperCL[j])**2)\n",
    "\n",
    "    # número máximo de PAs\n",
    "    pen_PAmax = sum(sol.sol_PAs_ativos.values()) - probdata.nPA_max\n",
    "\n",
    "    # return all multiplied by U\n",
    "    return 1000 * (pen_CLmin + sum(pen_PAcap) + sum(pen_dist) + sum(pen_CLmin) + sum(pen_PAperCL) + pen_PAmax)"
   ]
  },
  {
   "cell_type": "markdown",
   "metadata": {},
   "source": [
    "#### Funçao Objetivo 1: Minimizar número de PAs ativos"
   ]
  },
  {
   "cell_type": "code",
   "execution_count": null,
   "metadata": {},
   "outputs": [],
   "source": []
  },
  {
   "cell_type": "markdown",
   "metadata": {},
   "source": [
    "#### Função Objetivo 2: Minimizar distâncias entre clientes e PAs"
   ]
  },
  {
   "cell_type": "code",
   "execution_count": null,
   "metadata": {},
   "outputs": [],
   "source": []
  }
 ],
 "metadata": {
  "kernelspec": {
   "display_name": "Python 3",
   "language": "python",
   "name": "python3"
  },
  "language_info": {
   "codemirror_mode": {
    "name": "ipython",
    "version": 3
   },
   "file_extension": ".py",
   "mimetype": "text/x-python",
   "name": "python",
   "nbconvert_exporter": "python",
   "pygments_lexer": "ipython3",
   "version": "3.11.9"
  }
 },
 "nbformat": 4,
 "nbformat_minor": 2
}
