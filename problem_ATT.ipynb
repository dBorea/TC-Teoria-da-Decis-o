{
 "cells": [
  {
   "cell_type": "markdown",
   "metadata": {},
   "source": [
    "#### IMPORTS"
   ]
  },
  {
   "cell_type": "code",
   "execution_count": 3,
   "metadata": {},
   "outputs": [],
   "source": [
    "#Importa os módulos usados\n",
    "\n",
    "import numpy as np # type: ignore\n",
    "import matplotlib.pyplot as plt # type: ignore\n",
    "from typing import Dict, List\n",
    "import copy\n",
    "import random\n",
    "\n",
    "\n",
    "# Define um tipo de dado similar ao Pascal \"record\" or C \"struct\"\n",
    "\n",
    "class Struct:\n",
    "    pass\n",
    "\n",
    "INVALID: int = -1"
   ]
  },
  {
   "cell_type": "markdown",
   "metadata": {},
   "source": [
    "#### Utils de leitura do CSV"
   ]
  },
  {
   "cell_type": "code",
   "execution_count": 4,
   "metadata": {},
   "outputs": [],
   "source": [
    "class Cliente:\n",
    "    def __init__(self, x, y, consumo_banda):\n",
    "        self.x = x\n",
    "        self.y = y\n",
    "        self.consumo_banda = consumo_banda\n",
    "        self.connected_PA_id = INVALID\n",
    "        self.id = INVALID\n",
    "\n",
    "    def __repr__(self):\n",
    "        return f\"Cliente(x={self.x}, y={self.y}, consumo_banda={self.consumo_banda})\"\n",
    "\n",
    "# Função para ler os clientes do arquivo\n",
    "def ler_clientes(nome_arquivo):\n",
    "    clientes = []\n",
    "    with open(nome_arquivo, 'r') as arquivo:\n",
    "        linhas = arquivo.readlines()\n",
    "        for linha in linhas:\n",
    "            x, y, consumo_banda = map(float, linha.strip().split(','))\n",
    "            cliente = Cliente(x, y, consumo_banda)\n",
    "            clientes.append(cliente)\n",
    "\n",
    "        index = 0\n",
    "        for cliente in clientes:\n",
    "            cliente.id = index\n",
    "            index += 1\n",
    "\n",
    "    return clientes"
   ]
  },
  {
   "cell_type": "code",
   "execution_count": 5,
   "metadata": {},
   "outputs": [],
   "source": [
    "def clientProcessing(clientList, nCL=495, nPA=81**2):\n",
    "\n",
    "    cons = np.zeros(nCL)\n",
    "    dist = np.zeros((nCL, nPA))\n",
    "    exp = np.zeros((nCL, nPA))\n",
    "\n",
    "    cl_index = 0\n",
    "    for cliente in clientList:\n",
    "        cons[cl_index] = cliente.consumo_banda\n",
    "\n",
    "        for PA_index in range(nPA):\n",
    "            PA_x = (PA_index % 81) * 5\n",
    "            PA_y = (PA_index // 81) * 5\n",
    "            \n",
    "            dist[cl_index, PA_index] = np.sqrt((cliente.x - PA_x)**2 + (cliente.y - PA_y)**2)\n",
    "            exp[cl_index, PA_index] = 1/dist[cl_index, PA_index]\n",
    "\n",
    "        cl_index += 1\n",
    "\n",
    "    return cons, dist, exp"
   ]
  },
  {
   "cell_type": "markdown",
   "metadata": {},
   "source": [
    "#### Classe Solução"
   ]
  },
  {
   "cell_type": "code",
   "execution_count": 6,
   "metadata": {},
   "outputs": [],
   "source": [
    "class Solucao:\n",
    "    id: int = 0\n",
    "    sol_PAs_ativos: Dict[int, int] = {}\n",
    "    sol_PA_id_por_cliente: Dict[int, int] = {}\n",
    "    fitness_PA_min: float = 0\n",
    "    fitness_PA_min_penalizado: float = 0\n",
    "    penalidade: float = 0\n",
    "    fitness_dist_min: float = 0\n",
    "    fitness_dist_min_penalizado: float = 0\n",
    "    porcentagem_CL_antendidos = 0\n",
    "    nCL_por_PA: Dict[int, int] = {}\n",
    "\n",
    "    def __init__(self) -> None:\n",
    "        self.id: int = 0\n",
    "        self.sol_PAs_ativos: Dict[int, int] = {}\n",
    "        self.sol_PA_id_por_cliente: Dict[int, int] = {}\n",
    "        self.fitness_PA_min: float = 0\n",
    "        self.fitness_PA_min_penalizado: float = 0\n",
    "        self.fitness_dist_min: float = 0\n",
    "        self.fitness_dist_min_penalizado: float = 0\n",
    "        self.porcentagem_CL_antendidos = 0\n",
    "        self.nCL_por_PA: Dict[int, int] = {}"
   ]
  },
  {
   "cell_type": "markdown",
   "metadata": {},
   "source": [
    "#### Dados do problema"
   ]
  },
  {
   "cell_type": "code",
   "execution_count": 25,
   "metadata": {},
   "outputs": [],
   "source": [
    "class AccessPoint:\n",
    "    id: int = 0\n",
    "    x: int = 0\n",
    "    y: int = 0\n",
    "    nCL_in_range: int = 0\n",
    "\n",
    "    def __init__(self, x: int, y: int, index: int) -> None:\n",
    "        self.x = x\n",
    "        self.y = y\n",
    "        self.id = index\n",
    "        self.nCL_in_range: int = 0\n",
    "        pass"
   ]
  },
  {
   "cell_type": "code",
   "execution_count": 8,
   "metadata": {},
   "outputs": [],
   "source": [
    "class ProblemData:\n",
    "    PA_list: List[AccessPoint] = []\n",
    "    CL_list: List[Cliente] = []\n",
    "    dist_PA_CL: Dict[int, Dict[int, float]] = np.empty((81**2, 495))\n",
    "    min_CL_rate: float = 0.05\n",
    "    nCL: int = 495\n",
    "    nPA: int = 81**2"
   ]
  },
  {
   "cell_type": "code",
   "execution_count": 9,
   "metadata": {},
   "outputs": [],
   "source": [
    "def probdef(nPA=81**2, nCL=495):\n",
    "    \n",
    "    probdata = ProblemData()\n",
    "\n",
    "    # Uso da função para ler os clientes do arquivo\n",
    "    probdata.CL_list = ler_clientes('data/clientes.csv')\n",
    "\n",
    "    for id in range(0, nPA):\n",
    "        PA_x = (id % 81) * 5\n",
    "        PA_y = (id // 81) * 5\n",
    "        probdata.PA_list.append(AccessPoint(PA_x, PA_y, id))\n",
    "\n",
    "    for PA in probdata.PA_list:\n",
    "        for CL in probdata.CL_list:\n",
    "            probdata.dist_PA_CL[PA.id][CL.id] = ((PA.x - CL.x)**2 + (PA.y - CL.y)**2) ** 0.5\n",
    "\n",
    "            if(probdata.dist_PA_CL[PA.id][CL.id] <= 84):\n",
    "                PA.nCL_in_range += 1\n",
    "    \n",
    "    probdata.PA_cap = 54 # em Mbps\n",
    "    probdata.PA_raio = 84 # em metros\n",
    "    probdata.CL_min_p = 0.05 # porcentagem minima de clientes\n",
    "    probdata.nPA_max = 30\n",
    "\n",
    "    return probdata"
   ]
  },
  {
   "cell_type": "markdown",
   "metadata": {},
   "source": [
    "#### Solução inicial"
   ]
  },
  {
   "cell_type": "code",
   "execution_count": 38,
   "metadata": {},
   "outputs": [],
   "source": [
    "# heuristica inserção mais proxima\n",
    "# Solução inicial\n",
    "def sol_inicial(probdata: ProblemData):\n",
    "    sol = Solucao()\n",
    "    \n",
    "     # Calcular distância euclidiana entre clientes e pontos de acesso\n",
    "    distancias = probdata.dist_PA_CL\n",
    "\n",
    "    # Atribuir cada cliente ao ponto de acesso mais próximo\n",
    "    aux = 0\n",
    "    for CL in (probdata.CL_list):\n",
    "        dist_min = 1000\n",
    "        for PA in probdata.PA_list:\n",
    "            distancias_cliente = distancias[PA.id][CL.id]\n",
    "            if(dist_min > distancias_cliente): \n",
    "                dist_min = distancias_cliente\n",
    "                aux = PA.id\n",
    "        sol.sol_PA_id_por_cliente[CL.id] = PA.id  # Dá o PA mais proximo como ativo para o cliente j\n",
    "        sol.sol_PAs_ativos[PA.id] = 1  # Ativa o PA mais próximo\n",
    "\n",
    "    return sol"
   ]
  },
  {
   "cell_type": "markdown",
   "metadata": {},
   "source": [
    "#### Função Penalidades Generalizadas"
   ]
  },
  {
   "cell_type": "code",
   "execution_count": 43,
   "metadata": {},
   "outputs": [],
   "source": [
    "def encontrar_clientes_com_PAid(sol_PA_id_por_cliente, PAid_procurado):\n",
    "    clientes_com_PAid = []\n",
    "    for cliente, PAid in sol_PA_id_por_cliente.items():\n",
    "        if PAid == PAid_procurado:\n",
    "            clientes_com_PAid.append(cliente)\n",
    "    return clientes_com_PAid\n",
    "\n",
    "# Função de penalidades para todas as restrições\n",
    "def penalties(sol: Solucao, probdata: ProblemData):\n",
    "\n",
    "    # percentual mínimo de clientes\n",
    "    pen_CLmin = probdata.nCL * probdata.CL_min_p - np.sum(list(sol.sol_PAs_ativos.values()))\n",
    "    pen_CLmin = np.sum(np.where(pen_CLmin <= 0, 0, pen_CLmin)**2)\n",
    "\n",
    "    # limite de consumo dos PAs\n",
    "\n",
    "    pen_PAcap = np.zeros(probdata.nPA)\n",
    "    for i in range(probdata.nPA):\n",
    "        #Acha a lista de id de clientes que possuem conexão ativa com o PA i\n",
    "        # CLs_ids = sol.sol_PA_id_por_cliente.keys()[list(sol.sol_PA_id_por_cliente.values()).index(i)]\n",
    "        CLs_ids = encontrar_clientes_com_PAid(sol.sol_PA_id_por_cliente, i)\n",
    "        consumo_total = 0\n",
    "        index = 0\n",
    "        for CL in (probdata.CL_list):\n",
    "            if index in CLs_ids:\n",
    "                consumo_total += CL.consumo_banda\n",
    "            index += 1\n",
    "        \n",
    "        current_PA_ativo = 0\n",
    "        if i in sol.sol_PAs_ativos:\n",
    "            current_PA_ativo = 1\n",
    "\n",
    "        pen_PAcap[i] = consumo_total - current_PA_ativo * probdata.PA_cap\n",
    "        pen_PAcap[i] = np.sum(np.where(pen_PAcap[i] <= 0, 0, pen_PAcap[i])**2)\n",
    "    \n",
    "    # limite de distância entre PAs e clientes\n",
    "    pen_dist = np.zeros((probdata.nCL, probdata.nPA))\n",
    "    for i, PA in enumerate(probdata.PA_list):\n",
    "        #Acha a lista de id de clientes que possuem conexão ativa com o PA i\n",
    "        # CLs_ids = sol.sol_PA_id_por_cliente.keys()[sol.sol_PA_id_por_cliente.values.index(i)]\n",
    "        CLs_ids = encontrar_clientes_com_PAid(sol.sol_PA_id_por_cliente, i)\n",
    "        for j, CL in enumerate(probdata.CL_list):\n",
    "\n",
    "            areTheyConnected = 0\n",
    "            if CL.id in CLs_ids:\n",
    "                areTheyConnected = 1\n",
    "            \n",
    "            current_PA_ativo = 0\n",
    "            if PA.id in sol.sol_PAs_ativos:\n",
    "                current_PA_ativo = 1\n",
    "\n",
    "            pen_dist[j,i] = probdata.dist_PA_CL[PA.id, CL.id] * areTheyConnected - current_PA_ativo * probdata.PA_raio\n",
    "            pen_dist[j,i] = np.sum(np.where(pen_dist[j,i] <= 0, 0, pen_dist[j,i])**2)\n",
    "\n",
    "    # pelo menos 5% de exposição à rede\n",
    "    pen_CLmin = np.zeros(probdata.nCL)\n",
    "    for i, CL in enumerate(probdata.CL_list):\n",
    "        totalExposure: float = 0\n",
    "        for j in sol.sol_PAs_ativos.keys():\n",
    "            totalExposure += 1/probdata.dist_PA_CL[j, CL.id]\n",
    "\n",
    "        pen_CLmin[i] = 0.05 * 1 - totalExposure\n",
    "        pen_CLmin[i] = np.sum(np.where(pen_CLmin[i] <= 0, 0, pen_CLmin[i])**2)\n",
    "    \n",
    "    # # no máximo um PA por cliente\n",
    "    # pen_PAperCL = np.zeros(probdata.nCL)\n",
    "    # for j in range(probdata.nCL):\n",
    "    #     pen_PAperCL[j] = sum(x.solution[j]) - 1\n",
    "    #     pen_PAperCL[j] = np.sum(np.where(pen_PAperCL[j] <= 0, 0, pen_PAperCL[j])**2)\n",
    "    #\n",
    "    # NÃO VAI SER NECESSÁRIO - MODELAGEM IMPLICA NA IMPOSSIBILIDADE DE MÚLTIPLOS PAS CONECTADOS A UM CLIENTE\n",
    "\n",
    "    # número máximo de PAs\n",
    "    pen_PAmax = sum(sol.sol_PAs_ativos.values()) - probdata.nPA_max\n",
    "\n",
    "    # return all multiplied by U\n",
    "    return 1000 * (pen_CLmin  + sum(pen_dist) + sum(pen_CLmin)  + pen_PAmax)"
   ]
  },
  {
   "cell_type": "markdown",
   "metadata": {},
   "source": [
    "#### Funçao Objetivo 1: Minimizar número de PAs ativos"
   ]
  },
  {
   "cell_type": "code",
   "execution_count": 12,
   "metadata": {},
   "outputs": [],
   "source": [
    "# Função objetivo 1: Minimizar número de PAs ativos\n",
    "def fobj_minPA(sol: Solucao, probdata):\n",
    "\n",
    "    nCL_por_PA_local: Dict[int, int] = {}\n",
    "    nCL_atendidos: int = 0\n",
    "    for CL in probdata.CL_list:\n",
    "        if sol.sol_PA_id_por_cliente[CL.id] != INVALID:\n",
    "            nCL_atendidos += 1\n",
    "            if sol.sol_PA_id_por_cliente[CL.id] in nCL_por_PA_local:\n",
    "                nCL_por_PA_local[sol.sol_PA_id_por_cliente[CL.id]] += 1\n",
    "            else:\n",
    "                nCL_por_PA_local[sol.sol_PA_id_por_cliente[CL.id]] = 1\n",
    "    \n",
    "    sol.nCL_por_PA = nCL_por_PA_local\n",
    "\n",
    "\n",
    "    sol.fitness_PA_min = len(sol.sol_PAs_ativos)\n",
    "    sol.penalidade = penalties(sol, probdata)\n",
    "    sol.fitness_PA_min_penalizado = sol.fitness_PA_min + sol.fitness_PA_min_penalizado\n",
    "    sol.porcentagem_CL_antendidos = nCL_atendidos / 495\n",
    "\n",
    "    return sol"
   ]
  },
  {
   "cell_type": "markdown",
   "metadata": {},
   "source": [
    "#### Função Objetivo 2: Minimizar distâncias entre clientes e PAs"
   ]
  },
  {
   "cell_type": "code",
   "execution_count": 13,
   "metadata": {},
   "outputs": [],
   "source": [
    "# Função objetivo 2: Minimizar distância cumulativa de clientes e PAs\n",
    "def fobj_minDist(sol: Solucao, probdata):\n",
    "\n",
    "    nCL_por_PA_local: Dict[int, int] = {}\n",
    "    nCL_atendidos: int = 0\n",
    "    for CL in probdata.CL_list:\n",
    "        if sol.sol_PA_id_por_cliente[CL.id] != INVALID:\n",
    "            nCL_atendidos += 1\n",
    "            if sol.sol_PA_id_por_cliente[CL.id] in nCL_por_PA_local:\n",
    "                nCL_por_PA_local[sol.sol_PA_id_por_cliente[CL.id]] += 1\n",
    "            else:\n",
    "                nCL_por_PA_local[sol.sol_PA_id_por_cliente[CL.id]] = 1\n",
    "    \n",
    "    sol.nCL_por_PA = nCL_por_PA_local\n",
    "\n",
    "    dists: float = 0\n",
    "\n",
    "    for CL_id, PA_id in sol.sol_PA_id_por_cliente.items():\n",
    "        dists += probdata.dist_PA_CL[PA_id, CL_id]\n",
    "\n",
    "    sol.fitness_dist_min = dists\n",
    "    sol.penalidade = penalties(sol, probdata)\n",
    "    sol.fitness_dist_min_penalizado = sol.fitness_dist_min + sol.penalidade\n",
    "    sol.porcentagem_CL_antendidos = nCL_atendidos / 495\n",
    "\n",
    "    return sol"
   ]
  },
  {
   "cell_type": "markdown",
   "metadata": {},
   "source": [
    "#### Shake Função Objetivo 1"
   ]
  },
  {
   "cell_type": "code",
   "execution_count": 14,
   "metadata": {},
   "outputs": [],
   "source": [
    "def shake_minPA(x: Solucao, k: int, probdata):\n",
    "    y = copy.deepcopy(x)\n",
    "    \n",
    "    tres_menores_valores = sorted(y.nCL_por_PA.values())[:k]\n",
    "    chaves_correspondentes = []\n",
    "    for chave, valor in y.nCL_por_PA.items():\n",
    "        if valor in tres_menores_valores:\n",
    "            chaves_correspondentes.append(chave)\n",
    "\n",
    "    index = 0\n",
    "    keys = list(x.sol_PAs_ativos.keys())\n",
    "    generated_keys: Dict[int, int] = {}\n",
    "    while index < k:\n",
    "        #chave_para_substituir = chaves_correspondentes[index]\n",
    "        key = random.choice(keys)\n",
    "        while (key in generated_keys):\n",
    "            key = random.choice(keys)\n",
    "        \n",
    "        generated_keys[key] = 0\n",
    "    \n",
    "        y.sol_PAs_ativos.pop(key)\n",
    "        new_key = int(81**2 * random.random())\n",
    "        y.sol_PAs_ativos[new_key] = new_key\n",
    "        index += 1\n",
    "    \n",
    "    if len(y.sol_PAs_ativos) <= 9:\n",
    "        while len(y.sol_PAs_ativos) < 30:\n",
    "            key = int(81**2 * random.random())\n",
    "            if not (key in y.sol_PAs_ativos):\n",
    "                y.sol_PAs_ativos[key] = key\n",
    "    \n",
    "    return y"
   ]
  },
  {
   "cell_type": "markdown",
   "metadata": {},
   "source": [
    "#### Shake Função Objetivo 2"
   ]
  },
  {
   "cell_type": "code",
   "execution_count": 15,
   "metadata": {},
   "outputs": [],
   "source": [
    "def shake_minDist(x: Solucao, k: int, probdata):\n",
    "    y = copy.deepcopy(x)\n",
    "    \n",
    "    index = 0\n",
    "    keys = list(x.sol_PAs_ativos.keys())\n",
    "    generated_keys: Dict[int, int] = {}\n",
    "    while index < k:\n",
    "        key = random.choice(keys)\n",
    "        while (key in generated_keys):\n",
    "            key = random.choice(keys)\n",
    "        \n",
    "        generated_keys[key] = 0\n",
    "    \n",
    "        y.sol_PAs_ativos.pop(key)\n",
    "        new_key = int(81**2 * random.random())\n",
    "        y.sol_PAs_ativos[new_key] = new_key\n",
    "        index += 1\n",
    "    \n",
    "    if len(y.sol_PAs_ativos) <= 18: ## VERIFICAR 18\n",
    "        while len(y.sol_PAs_ativos) < 30:\n",
    "            key = int(81**2 * random.random())\n",
    "            if not (key in y.sol_PAs_ativos):\n",
    "                y.sol_PAs_ativos[key] = key\n",
    "    \n",
    "    return y"
   ]
  },
  {
   "cell_type": "markdown",
   "metadata": {},
   "source": [
    "#### Neighborhood Change Função Objetivo 1"
   ]
  },
  {
   "cell_type": "code",
   "execution_count": 16,
   "metadata": {},
   "outputs": [],
   "source": [
    "def neighborhoodChange_minPA(x: Solucao, y: Solucao, k: int):\n",
    "    \n",
    "    if  (y.fitness_PA_min_penalizado < x.fitness_PA_min_penalizado or y.fitness_PA_min_penalizado == x.fitness_PA_min_penalizado and y.porcentagem_CL_antendidos > x.porcentagem_CL_antendidos):\n",
    "        x = copy.deepcopy(y)\n",
    "        k  = 1\n",
    "    else:\n",
    "        k += 1\n",
    "        \n",
    "    return x, k "
   ]
  },
  {
   "cell_type": "markdown",
   "metadata": {},
   "source": [
    "#### Neighborhood Change Função Objetivo 2"
   ]
  },
  {
   "cell_type": "code",
   "execution_count": 17,
   "metadata": {},
   "outputs": [],
   "source": [
    "def neighborhoodChange(x: Solucao, y: Solucao, k: int):\n",
    "    \n",
    "    if  (y.fitness_dist_min_penalizado < x.fitness_dist_min_penalizado or y.fitness_dist_min_penalizado == x.fitness_dist_min_penalizado and y.porcentagem_CL_antendidos > x.porcentagem_CL_antendidos):\n",
    "        x = copy.deepcopy(y)\n",
    "        k  = 1\n",
    "    else:\n",
    "        k += 1\n",
    "        \n",
    "    return x, k "
   ]
  },
  {
   "cell_type": "markdown",
   "metadata": {},
   "source": [
    "#### RVNS"
   ]
  },
  {
   "cell_type": "code",
   "execution_count": 18,
   "metadata": {},
   "outputs": [],
   "source": [
    "def RVNS_minPA(solucao_inicial: Solucao, dados: ProblemData, historico: Struct) -> Solucao:\n",
    "    # Contador do número de soluções candidatas avaliadas\n",
    "    num_sol_avaliadas = 1\n",
    "\n",
    "    # Máximo número de soluções candidatas avaliadas\n",
    "    max_num_sol_avaliadas = 2000\n",
    "\n",
    "    # Número de estruturas de vizinhanças definidas\n",
    "    kmax = 3\n",
    "\n",
    "    # Gera solução inicial\n",
    "    x = solucao_inicial\n",
    "\n",
    "    # Armazena dados para plot\n",
    "    historico.fit.append(x.fitness_PA_min)\n",
    "    historico.sol.append(x.sol_PAs_ativos)\n",
    "    historico.pen.append(x.penalidade)\n",
    "    historico.fit_pen.append(x.fitness_PA_min_penalizado)\n",
    "\n",
    "\n",
    "    # Ciclo iterativo do método\n",
    "    while num_sol_avaliadas < max_num_sol_avaliadas:\n",
    "        \n",
    "        k = 1\n",
    "        while k <= kmax:\n",
    "            \n",
    "            # Gera uma solução candidata na k-ésima vizinhança de x          \n",
    "            y = shake_minPA(x, k, dados)\n",
    "            y = fobj_minPA(y, dados)\n",
    "            num_sol_avaliadas += 1\n",
    "            y.id = num_sol_avaliadas\n",
    "            \n",
    "            # Atualiza solução corrente e estrutura de vizinhança (se necessário)\n",
    "            x, k = neighborhoodChange(x, y, k)\n",
    "            \n",
    "            # Armazena dados para plot\n",
    "            historico.fit.append(x.fitness_PA_min)\n",
    "            historico.sol.append(x.sol_PAs_ativos)\n",
    "            historico.pen.append(x.penalidade)\n",
    "            historico.fit_pen.append(x.fitness_PA_min_penalizado)\n",
    "    \n",
    "    return x"
   ]
  },
  {
   "cell_type": "markdown",
   "metadata": {},
   "source": [
    "#### BVNS"
   ]
  },
  {
   "cell_type": "code",
   "execution_count": 19,
   "metadata": {},
   "outputs": [],
   "source": [
    "def BVNS_minPA(solucao_inicial: Solucao, dados: ProblemData):\n",
    "\n",
    "    x = fobj_minPA(solucao_inicial, dados)\n",
    "    y = copy.deepcopy(x)\n",
    "\n",
    "    historico = Struct()\n",
    "    historico.fit = []\n",
    "    historico.sol = []\n",
    "    historico.pen = []\n",
    "    historico.fit_pen = []\n",
    "\n",
    "    numero_de_tentativas = 0\n",
    "    while numero_de_tentativas < 6:\n",
    "        numero_de_iteracoes_RVNS = 0\n",
    "        while x.fitness_PA_min_penalizado >= y.fitness_PA_min_penalizado and numero_de_iteracoes_RVNS < 5:\n",
    "            numero_de_iteracoes_RVNS += 1\n",
    "            x = RVNS_minPA(y, dados, historico)\n",
    "            \n",
    "        y = copy.deepcopy(x)\n",
    "        numero_de_tentativas += 1\n",
    "\n",
    "    \n",
    "    return x, historico"
   ]
  },
  {
   "cell_type": "markdown",
   "metadata": {},
   "source": [
    "#### Execução"
   ]
  },
  {
   "cell_type": "code",
   "execution_count": 44,
   "metadata": {},
   "outputs": [
    {
     "ename": "AttributeError",
     "evalue": "'builtin_function_or_method' object has no attribute 'index'",
     "output_type": "error",
     "traceback": [
      "\u001b[1;31m---------------------------------------------------------------------------\u001b[0m",
      "\u001b[1;31mAttributeError\u001b[0m                            Traceback (most recent call last)",
      "Cell \u001b[1;32mIn[44], line 8\u001b[0m\n\u001b[0;32m      5\u001b[0m historicos_de_solucoes: List[Struct] \u001b[38;5;241m=\u001b[39m []\n\u001b[0;32m      7\u001b[0m \u001b[38;5;28;01mwhile\u001b[39;00m numero_de_execucoes \u001b[38;5;241m<\u001b[39m \u001b[38;5;241m5\u001b[39m:\n\u001b[1;32m----> 8\u001b[0m     melhor_solucao, historico \u001b[38;5;241m=\u001b[39m \u001b[43mBVNS_minPA\u001b[49m\u001b[43m(\u001b[49m\u001b[43msolucao_inicial\u001b[49m\u001b[43m,\u001b[49m\u001b[43m \u001b[49m\u001b[43mdados\u001b[49m\u001b[43m)\u001b[49m\n\u001b[0;32m      9\u001b[0m     \u001b[38;5;28mprint\u001b[39m(\u001b[38;5;124mf\u001b[39m\u001b[38;5;124m'\u001b[39m\u001b[38;5;124mexecução = \u001b[39m\u001b[38;5;132;01m{\u001b[39;00mnumero_de_execucoes\u001b[38;5;132;01m}\u001b[39;00m\u001b[38;5;124m PAs = \u001b[39m\u001b[38;5;132;01m{\u001b[39;00mmelhor_solucao\u001b[38;5;241m.\u001b[39mfitness_PA_min\u001b[38;5;132;01m}\u001b[39;00m\u001b[38;5;124m Porcentagem de Clientes Atendidos = \u001b[39m\u001b[38;5;132;01m{\u001b[39;00mmelhor_solucao\u001b[38;5;241m.\u001b[39mporcentagem_CL_antendidos\u001b[38;5;132;01m}\u001b[39;00m\u001b[38;5;124m penalização = \u001b[39m\u001b[38;5;132;01m{\u001b[39;00mmelhor_solucao\u001b[38;5;241m.\u001b[39mfitness_PA_min_penalizado\u001b[38;5;132;01m}\u001b[39;00m\u001b[38;5;124m'\u001b[39m)\n\u001b[0;32m     10\u001b[0m     historicos_de_solucoes\u001b[38;5;241m.\u001b[39mappend(historico)\n",
      "Cell \u001b[1;32mIn[19], line 3\u001b[0m, in \u001b[0;36mBVNS_minPA\u001b[1;34m(solucao_inicial, dados)\u001b[0m\n\u001b[0;32m      1\u001b[0m \u001b[38;5;28;01mdef\u001b[39;00m \u001b[38;5;21mBVNS_minPA\u001b[39m(solucao_inicial: Solucao, dados: ProblemData):\n\u001b[1;32m----> 3\u001b[0m     x \u001b[38;5;241m=\u001b[39m \u001b[43mfobj_minPA\u001b[49m\u001b[43m(\u001b[49m\u001b[43msolucao_inicial\u001b[49m\u001b[43m,\u001b[49m\u001b[43m \u001b[49m\u001b[43mdados\u001b[49m\u001b[43m)\u001b[49m\n\u001b[0;32m      4\u001b[0m     y \u001b[38;5;241m=\u001b[39m copy\u001b[38;5;241m.\u001b[39mdeepcopy(x)\n\u001b[0;32m      6\u001b[0m     historico \u001b[38;5;241m=\u001b[39m Struct()\n",
      "Cell \u001b[1;32mIn[12], line 18\u001b[0m, in \u001b[0;36mfobj_minPA\u001b[1;34m(sol, probdata)\u001b[0m\n\u001b[0;32m     14\u001b[0m sol\u001b[38;5;241m.\u001b[39mnCL_por_PA \u001b[38;5;241m=\u001b[39m nCL_por_PA_local\n\u001b[0;32m     17\u001b[0m sol\u001b[38;5;241m.\u001b[39mfitness_PA_min \u001b[38;5;241m=\u001b[39m \u001b[38;5;28mlen\u001b[39m(sol\u001b[38;5;241m.\u001b[39msol_PAs_ativos)\n\u001b[1;32m---> 18\u001b[0m sol\u001b[38;5;241m.\u001b[39mpenalidade \u001b[38;5;241m=\u001b[39m \u001b[43mpenalties\u001b[49m\u001b[43m(\u001b[49m\u001b[43msol\u001b[49m\u001b[43m,\u001b[49m\u001b[43m \u001b[49m\u001b[43mprobdata\u001b[49m\u001b[43m)\u001b[49m\n\u001b[0;32m     19\u001b[0m sol\u001b[38;5;241m.\u001b[39mfitness_PA_min_penalizado \u001b[38;5;241m=\u001b[39m sol\u001b[38;5;241m.\u001b[39mfitness_PA_min \u001b[38;5;241m+\u001b[39m sol\u001b[38;5;241m.\u001b[39mfitness_PA_min_penalizado\n\u001b[0;32m     20\u001b[0m sol\u001b[38;5;241m.\u001b[39mporcentagem_CL_antendidos \u001b[38;5;241m=\u001b[39m nCL_atendidos \u001b[38;5;241m/\u001b[39m \u001b[38;5;241m495\u001b[39m\n",
      "Cell \u001b[1;32mIn[43], line 40\u001b[0m, in \u001b[0;36mpenalties\u001b[1;34m(sol, probdata)\u001b[0m\n\u001b[0;32m     37\u001b[0m pen_dist \u001b[38;5;241m=\u001b[39m np\u001b[38;5;241m.\u001b[39mzeros((probdata\u001b[38;5;241m.\u001b[39mnCL, probdata\u001b[38;5;241m.\u001b[39mnPA))\n\u001b[0;32m     38\u001b[0m \u001b[38;5;28;01mfor\u001b[39;00m i, PA \u001b[38;5;129;01min\u001b[39;00m \u001b[38;5;28menumerate\u001b[39m(probdata\u001b[38;5;241m.\u001b[39mPA_list):\n\u001b[0;32m     39\u001b[0m     \u001b[38;5;66;03m#Acha a lista de id de clientes que possuem conexão ativa com o PA i\u001b[39;00m\n\u001b[1;32m---> 40\u001b[0m     CLs_ids \u001b[38;5;241m=\u001b[39m sol\u001b[38;5;241m.\u001b[39msol_PA_id_por_cliente\u001b[38;5;241m.\u001b[39mkeys()[\u001b[43msol\u001b[49m\u001b[38;5;241;43m.\u001b[39;49m\u001b[43msol_PA_id_por_cliente\u001b[49m\u001b[38;5;241;43m.\u001b[39;49m\u001b[43mvalues\u001b[49m\u001b[38;5;241;43m.\u001b[39;49m\u001b[43mindex\u001b[49m(i)]\n\u001b[0;32m     41\u001b[0m     \u001b[38;5;28;01mfor\u001b[39;00m j, CL \u001b[38;5;129;01min\u001b[39;00m \u001b[38;5;28menumerate\u001b[39m(probdata\u001b[38;5;241m.\u001b[39mCL_list):\n\u001b[0;32m     43\u001b[0m         areTheyConnected \u001b[38;5;241m=\u001b[39m \u001b[38;5;241m0\u001b[39m\n",
      "\u001b[1;31mAttributeError\u001b[0m: 'builtin_function_or_method' object has no attribute 'index'"
     ]
    }
   ],
   "source": [
    "dados = probdef()\n",
    "solucao_inicial = sol_inicial(dados)\n",
    "numero_de_execucoes = 0\n",
    "melhores_solucoes: List[Solucao] = []\n",
    "historicos_de_solucoes: List[Struct] = []\n",
    "\n",
    "while numero_de_execucoes < 5:\n",
    "    melhor_solucao, historico = BVNS_minPA(solucao_inicial, dados)\n",
    "    print(f'execução = {numero_de_execucoes} PAs = {melhor_solucao.fitness_PA_min} Porcentagem de Clientes Atendidos = {melhor_solucao.porcentagem_CL_antendidos} penalização = {melhor_solucao.fitness_PA_min_penalizado}')\n",
    "    historicos_de_solucoes.append(historico)\n",
    "    melhores_solucoes.append(melhor_solucao)\n",
    "    numero_de_execucoes += 1"
   ]
  },
  {
   "cell_type": "markdown",
   "metadata": {},
   "source": [
    "#### Plot Evolução das soluções"
   ]
  },
  {
   "cell_type": "code",
   "execution_count": null,
   "metadata": {},
   "outputs": [],
   "source": [
    "fig, (ax1, ax2) = plt.subplots(2, 1)\n",
    "cores_historico = [f'#{random.randint(0, 0xFFFFFF):06x}' for _ in range(numero_de_execucoes)]\n",
    "index_historico = 0\n",
    "for historico in historicos_de_solucoes:\n",
    "    s = len(historico.fit_pen)\n",
    "    ax1.plot(np.linspace(0,s-1,s),historico.fit_pen,'k-', color=cores_historico[index_historico])\n",
    "    ax2.plot(np.linspace(0,s-1,s),historico.pen,'b:', color=cores_historico[index_historico])\n",
    "    index_historico += 1\n",
    "    \n",
    "fig.suptitle('Evolução da qualidade da solução candidata')\n",
    "ax1.set_ylabel('fitness(x) penalizado')\n",
    "ax2.set_ylabel('penalidade(x)')\n",
    "ax2.set_xlabel('Número de avaliações')\n",
    "plt.subplots_adjust(left=0.1,\n",
    "                        bottom=0.1, \n",
    "                        right=0.9, \n",
    "                        top=0.9, \n",
    "                        wspace=0.4, \n",
    "                        hspace=0.4)\n",
    "plt.show()"
   ]
  },
  {
   "cell_type": "markdown",
   "metadata": {},
   "source": [
    "#### Plot Resultados"
   ]
  },
  {
   "cell_type": "code",
   "execution_count": null,
   "metadata": {},
   "outputs": [],
   "source": [
    "def plot_triangulo(x, y, size, color):\n",
    "    plt.plot(x, y, marker='^', markersize=size, color=color, linestyle='None')\n",
    "\n",
    "# Função para plotar um círculo\n",
    "def plot_circulo(x, y, size, color):\n",
    "    plt.plot(x, y, marker='o', markersize=size, color=color, linestyle='None')\n",
    "    \n",
    "\n",
    "for x in melhores_solucoes:\n",
    "    # Gerar uma lista de cores aleatórias para os pontos de acesso\n",
    "    cores_pontos_acesso = [f'#{random.randint(0, 0xFFFFFF):06x}' for _ in range(len(x.sol_PAs_ativos))]\n",
    "\n",
    "    cores: Dict[int, str] = {}\n",
    "\n",
    "    index = 0\n",
    "    for ponto_de_acesso_id in x.nCL_por_PA:\n",
    "        cores[ponto_de_acesso_id] = cores_pontos_acesso[index]\n",
    "        index += 1\n",
    "\n",
    "    pontos_de_acessos_ativos: Dict[int, float] = {}\n",
    "        \n",
    "    for cliente_id, ponto_de_acesso_id in x.sol_PA_id_por_cliente.items():\n",
    "        if ponto_de_acesso_id != INVALID:\n",
    "            plot_triangulo(dados.PA_list[ponto_de_acesso_id].x, dados.PA_list[ponto_de_acesso_id].y, 10, color = cores[ponto_de_acesso_id])\n",
    "            plot_circulo(dados.CL_list[cliente_id].x, dados.CL_list[cliente_id].y, 5, color = cores[ponto_de_acesso_id])\n",
    "\n",
    "    # Configurar o gráfico\n",
    "    plt.xlabel('Coordenada X')\n",
    "    plt.ylabel('Coordenada Y')\n",
    "    label = f'Número de PAs {x.fitness_PA_min} Clientes Atendidos {x.porcentagem_CL_antendidos}'\n",
    "    plt.title(f'Pontos de Acesso e Clientes Atendidos \\n{label}')\n",
    "    plt.grid(True)\n",
    "\n",
    "    # Mostrar o gráfico\n",
    "    plt.show()\n"
   ]
  }
 ],
 "metadata": {
  "kernelspec": {
   "display_name": "Python 3",
   "language": "python",
   "name": "python3"
  },
  "language_info": {
   "codemirror_mode": {
    "name": "ipython",
    "version": 3
   },
   "file_extension": ".py",
   "mimetype": "text/x-python",
   "name": "python",
   "nbconvert_exporter": "python",
   "pygments_lexer": "ipython3",
   "version": "3.10.0"
  }
 },
 "nbformat": 4,
 "nbformat_minor": 2
}
