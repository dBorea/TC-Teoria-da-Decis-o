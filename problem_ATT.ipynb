{
 "cells": [
  {
   "cell_type": "markdown",
   "metadata": {},
   "source": [
    "#### IMPORTS"
   ]
  },
  {
   "cell_type": "code",
   "execution_count": 643,
   "metadata": {},
   "outputs": [],
   "source": [
    "#Importa os módulos usados\n",
    "\n",
    "import numpy as np # type: ignore\n",
    "import matplotlib.pyplot as plt # type: ignore\n",
    "from typing import Dict, List\n",
    "import copy\n",
    "import random\n",
    "\n",
    "\n",
    "# Define um tipo de dado similar ao Pascal \"record\" or C \"struct\"\n",
    "\n",
    "class Struct:\n",
    "    pass\n",
    "\n",
    "INVALID: int = -1"
   ]
  },
  {
   "cell_type": "markdown",
   "metadata": {},
   "source": [
    "#### Utils de leitura do CSV"
   ]
  },
  {
   "cell_type": "code",
   "execution_count": 644,
   "metadata": {},
   "outputs": [],
   "source": [
    "class Cliente:\n",
    "    def __init__(self, x, y, consumo_banda):\n",
    "        self.x = x\n",
    "        self.y = y\n",
    "        self.consumo_banda = consumo_banda\n",
    "        self.connected_PA_id = INVALID\n",
    "        self.id = INVALID\n",
    "\n",
    "    def __repr__(self):\n",
    "        return f\"Cliente(x={self.x}, y={self.y}, consumo_banda={self.consumo_banda})\"\n",
    "\n",
    "# Função para ler os clientes do arquivo\n",
    "def ler_clientes(nome_arquivo):\n",
    "    clientes = []\n",
    "    with open(nome_arquivo, 'r') as arquivo:\n",
    "        linhas = arquivo.readlines()\n",
    "        for linha in linhas:\n",
    "            x, y, consumo_banda = map(float, linha.strip().split(','))\n",
    "            cliente = Cliente(x, y, consumo_banda)\n",
    "            clientes.append(cliente)\n",
    "\n",
    "        index = 0\n",
    "        for cliente in clientes:\n",
    "            cliente.id = index\n",
    "            index += 1\n",
    "\n",
    "    return clientes"
   ]
  },
  {
   "cell_type": "code",
   "execution_count": 645,
   "metadata": {},
   "outputs": [],
   "source": [
    "def clientProcessing(clientList, nCL=495, nPA=81**2):\n",
    "\n",
    "    cons = np.zeros(nCL)\n",
    "    dist = np.zeros((nCL, nPA))\n",
    "    exp = np.zeros((nCL, nPA))\n",
    "\n",
    "    cl_index = 0\n",
    "    for cliente in clientList:\n",
    "        cons[cl_index] = cliente.consumo_banda\n",
    "\n",
    "        for PA_index in range(nPA):\n",
    "            PA_x = (PA_index % 81) * 5\n",
    "            PA_y = (PA_index // 81) * 5\n",
    "            \n",
    "            dist[cl_index, PA_index] = np.sqrt((cliente.x - PA_x)**2 + (cliente.y - PA_y)**2)\n",
    "            exp[cl_index, PA_index] = 1/dist[cl_index, PA_index]\n",
    "\n",
    "        cl_index += 1\n",
    "\n",
    "    return cons, dist, exp"
   ]
  },
  {
   "cell_type": "markdown",
   "metadata": {},
   "source": [
    "#### Classe Solução"
   ]
  },
  {
   "cell_type": "code",
   "execution_count": 646,
   "metadata": {},
   "outputs": [],
   "source": [
    "class Solucao:\n",
    "    id: int = 0\n",
    "    sol_PAs_ativos: Dict[int, int] = {}\n",
    "    sol_PA_id_por_cliente: Dict[int, int] = {}\n",
    "    fitness_PA_min: float = 0\n",
    "    fitness_PA_min_penalizado: float = 0\n",
    "    penalidade: float = 0\n",
    "    fitness_dist_min: float = 0\n",
    "    fitness_dist_min_penalizado: float = 0\n",
    "    porcentagem_CL_antendidos = 0\n",
    "    nCL_por_PA: Dict[int, int] = {}\n",
    "\n",
    "    def __init__(self) -> None:\n",
    "        self.id: int = 0\n",
    "        self.sol_PAs_ativos: Dict[int, int] = {}\n",
    "        self.sol_PA_id_por_cliente: Dict[int, int] = {}\n",
    "        self.fitness_PA_min: float = 0\n",
    "        self.fitness_PA_min_penalizado: float = 0\n",
    "        self.fitness_dist_min: float = 0\n",
    "        self.fitness_dist_min_penalizado: float = 0\n",
    "        self.porcentagem_CL_antendidos = 0\n",
    "        self.nCL_por_PA: Dict[int, int] = {}"
   ]
  },
  {
   "cell_type": "markdown",
   "metadata": {},
   "source": [
    "#### Dados do problema"
   ]
  },
  {
   "cell_type": "code",
   "execution_count": 647,
   "metadata": {},
   "outputs": [],
   "source": [
    "class AccessPoint:\n",
    "    id: int = 0\n",
    "    x: int = 0\n",
    "    y: int = 0\n",
    "    nCL_in_range: int = 0\n",
    "\n",
    "    def __init__(self, x: int, y: int, index: int) -> None:\n",
    "        self.x = x\n",
    "        self.y = y\n",
    "        self.id = index\n",
    "        self.nCL_in_range: int = 0\n",
    "        pass"
   ]
  },
  {
   "cell_type": "code",
   "execution_count": 648,
   "metadata": {},
   "outputs": [],
   "source": [
    "class ProblemData:\n",
    "    PA_list: List[AccessPoint] = []\n",
    "    CL_list: List[Cliente] = []\n",
    "    dist_PA_CL: Dict[int, Dict[int, float]] = np.empty((81**2, 495))\n",
    "    min_CL_rate: float = 0.05\n",
    "    nCL: int = 495\n",
    "    nPA: int = 81**2"
   ]
  },
  {
   "cell_type": "code",
   "execution_count": 649,
   "metadata": {},
   "outputs": [],
   "source": [
    "def probdef(nPA=81**2, nCL=495):\n",
    "    \n",
    "    probdata = ProblemData()\n",
    "\n",
    "    # Uso da função para ler os clientes do arquivo\n",
    "    probdata.CL_list = ler_clientes('data/clientes.csv')\n",
    "\n",
    "    for id in range(0, nPA):\n",
    "        PA_x = (id % 81) * 5\n",
    "        PA_y = (id // 81) * 5\n",
    "        probdata.PA_list.append(AccessPoint(PA_x, PA_y, id))\n",
    "\n",
    "    for PA in probdata.PA_list:\n",
    "        for CL in probdata.CL_list:\n",
    "            probdata.dist_PA_CL[PA.id][CL.id] = ((PA.x - CL.x)**2 + (PA.y - CL.y)**2) ** 0.5\n",
    "\n",
    "            if(probdata.dist_PA_CL[PA.id][CL.id] <= 84):\n",
    "                PA.nCL_in_range += 1\n",
    "    \n",
    "    probdata.PA_cap = 54 # em Mbps\n",
    "    probdata.PA_raio = 84 # em metros\n",
    "    probdata.CL_min_p = 0.05 # porcentagem minima de clientes\n",
    "    probdata.nPA_max = 30\n",
    "\n",
    "    return probdata"
   ]
  },
  {
   "cell_type": "markdown",
   "metadata": {},
   "source": [
    "#### Solução inicial"
   ]
  },
  {
   "cell_type": "code",
   "execution_count": 650,
   "metadata": {},
   "outputs": [],
   "source": [
    "# heuristica inserção mais proxima\n",
    "# Solução inicial\n",
    "def sol_inicial(probdata):\n",
    "    sol = Solucao()\n",
    "    \n",
    "     # Calcular distância euclidiana entre clientes e pontos de acesso\n",
    "    distancias = np.zeros((probdata.nCL, probdata.nPA))\n",
    "    for i, CL in enumerate(probdata.CL_list):\n",
    "        for j, PA in enumerate(probdata.PA_list):\n",
    "            distancias[i, j] = np.sqrt((CL.x - PA.x) ** 2 + (CL.y - PA.y) ** 2)\n",
    "\n",
    "    # Atribuir cada cliente ao ponto de acesso mais próximo\n",
    "    for j in range(len(probdata.CL_list)):\n",
    "        distancias_cliente = distancias[j]\n",
    "        pa_mais_proximo = np.argmin(distancias_cliente)\n",
    "        sol.sol_PA_id_por_cliente[j] = pa_mais_proximo  # Dá o PA mais proximo como ativo para o cliente j\n",
    "        sol.sol_PAs_ativos[pa_mais_proximo] = 1  # Ativa o PA mais próximo\n",
    "\n",
    "    return sol"
   ]
  },
  {
   "cell_type": "markdown",
   "metadata": {},
   "source": [
    "#### Função Penalidades Generalizadas"
   ]
  },
  {
   "cell_type": "code",
   "execution_count": 651,
   "metadata": {},
   "outputs": [],
   "source": [
    "# Função de penalidades para todas as restrições\n",
    "def penalties(sol: Solucao, probdata: ProblemData):\n",
    "\n",
    "    # percentual mínimo de clientes\n",
    "    pen_CLmin = probdata.nCL * probdata.CL_min_p - np.sum(list(sol.sol_PAs_ativos.values()))\n",
    "    pen_CLmin = np.sum(np.where(pen_CLmin <= 0, 0, pen_CLmin)**2)\n",
    "    print(\"Penalidades executadas: 1\", end=\"\")\n",
    "\n",
    "    # limite de consumo dos PAs\n",
    "    pen_PAcap = np.zeros(probdata.nPA)\n",
    "    for i in range(probdata.nPA):\n",
    "        #Acha a lista de id de clientes que possuem conexão ativa com o PA i\n",
    "        CLs_ids = [k for k, v in sol.sol_PA_id_por_cliente.items() if v == i]\n",
    "        consumo_total = 0\n",
    "        index = 0\n",
    "        for CL in (probdata.CL_list):\n",
    "            if index in CLs_ids:\n",
    "                consumo_total += CL.consumo_banda\n",
    "            index += 1\n",
    "        \n",
    "        current_PA_ativo = 0\n",
    "        if i in sol.sol_PAs_ativos:\n",
    "            current_PA_ativo = 1\n",
    "\n",
    "        pen_PAcap[i] = consumo_total - current_PA_ativo * probdata.PA_cap\n",
    "        pen_PAcap[i] = np.sum(np.where(pen_PAcap[i] <= 0, 0, pen_PAcap[i])**2)\n",
    "    \n",
    "    print(\"-2\", end=\"\")\n",
    "\n",
    "    # limite de distância entre PAs e clientes\n",
    "    pen_dist = np.zeros((probdata.nCL, probdata.nPA))\n",
    "    for i, PA in enumerate(probdata.PA_list):\n",
    "        #Acha a lista de id de clientes que possuem conexão ativa com o PA i\n",
    "        CLs_ids = [k for k, v in sol.sol_PA_id_por_cliente.items() if v == i]\n",
    "\n",
    "        current_PA_ativo = 0\n",
    "        if PA.id in sol.sol_PAs_ativos:\n",
    "            current_PA_ativo = 1\n",
    "\n",
    "        for CL in probdata.CL_list:\n",
    "\n",
    "            areTheyConnected = 0\n",
    "            if CL.id in CLs_ids:\n",
    "                areTheyConnected = 1\n",
    "\n",
    "            pen_dist[CL.id, i] = probdata.dist_PA_CL[PA.id, CL.id] * areTheyConnected - current_PA_ativo * probdata.PA_raio\n",
    "            pen_dist[CL.id, i] = np.sum(np.where(pen_dist[CL.id, i] <= 0, 0, pen_dist[CL.id, i])**2)\n",
    "    print(\"-3\", end=\"\")\n",
    "\n",
    "    # pelo menos 5% de exposição à rede\n",
    "    pen_Expmin = np.zeros(probdata.nCL)\n",
    "    for i, CL in enumerate(probdata.CL_list):\n",
    "        totalExposure: float = 0\n",
    "        for j in sol.sol_PAs_ativos.keys():\n",
    "            totalExposure += 1/probdata.dist_PA_CL[j, CL.id]\n",
    "\n",
    "        pen_Expmin[i] = 0.05 * 1 - totalExposure\n",
    "        pen_Expmin[i] = np.sum(np.where(pen_Expmin[i] <= 0, 0, pen_Expmin[i])**2)\n",
    "    print(\"-4\", end=\"\")\n",
    "\n",
    "    # número máximo de PAs\n",
    "    pen_PAmax = sum(sol.sol_PAs_ativos.values()) - probdata.nPA_max\n",
    "    print(\"-5\")\n",
    "\n",
    "    # return all multiplied by U\n",
    "    return 1000 * (pen_CLmin  + sum(pen_dist) + sum(pen_Expmin)  + pen_PAmax + sum(pen_PAcap))"
   ]
  },
  {
   "cell_type": "markdown",
   "metadata": {},
   "source": [
    "#### Funçao Objetivo 1: Minimizar número de PAs ativos"
   ]
  },
  {
   "cell_type": "code",
   "execution_count": 652,
   "metadata": {},
   "outputs": [],
   "source": [
    "# Função objetivo 1: Minimizar número de PAs ativos\n",
    "def fobj_minPA(sol: Solucao, probdata):\n",
    "\n",
    "    nCL_por_PA_local: Dict[int, int] = {}\n",
    "    nCL_atendidos: int = 0\n",
    "    for CL in probdata.CL_list:\n",
    "        if sol.sol_PA_id_por_cliente[CL.id] != INVALID:\n",
    "            nCL_atendidos += 1\n",
    "            if sol.sol_PA_id_por_cliente[CL.id] in nCL_por_PA_local:\n",
    "                nCL_por_PA_local[sol.sol_PA_id_por_cliente[CL.id]] += 1\n",
    "            else:\n",
    "                nCL_por_PA_local[sol.sol_PA_id_por_cliente[CL.id]] = 1\n",
    "    \n",
    "    sol.nCL_por_PA = nCL_por_PA_local\n",
    "\n",
    "\n",
    "    sol.fitness_PA_min = len(sol.sol_PAs_ativos)\n",
    "    sol.penalidade = penalties(sol, probdata)\n",
    "    sol.fitness_PA_min_penalizado = sol.fitness_PA_min + sol.fitness_PA_min_penalizado\n",
    "    sol.porcentagem_CL_antendidos = nCL_atendidos / 495\n",
    "\n",
    "    return sol"
   ]
  },
  {
   "cell_type": "markdown",
   "metadata": {},
   "source": [
    "#### Função Objetivo 2: Minimizar distâncias entre clientes e PAs"
   ]
  },
  {
   "cell_type": "code",
   "execution_count": 653,
   "metadata": {},
   "outputs": [],
   "source": [
    "# Função objetivo 2: Minimizar distância cumulativa de clientes e PAs\n",
    "def fobj_minDist(sol: Solucao, probdata):\n",
    "\n",
    "    nCL_por_PA_local: Dict[int, int] = {}\n",
    "    nCL_atendidos: int = 0\n",
    "    for CL in probdata.CL_list:\n",
    "        if sol.sol_PA_id_por_cliente[CL.id] != INVALID:\n",
    "            nCL_atendidos += 1\n",
    "            if sol.sol_PA_id_por_cliente[CL.id] in nCL_por_PA_local:\n",
    "                nCL_por_PA_local[sol.sol_PA_id_por_cliente[CL.id]] += 1\n",
    "            else:\n",
    "                nCL_por_PA_local[sol.sol_PA_id_por_cliente[CL.id]] = 1\n",
    "    \n",
    "    sol.nCL_por_PA = nCL_por_PA_local\n",
    "\n",
    "    dists: float = 0\n",
    "\n",
    "    for CL_id, PA_id in sol.sol_PA_id_por_cliente.items():\n",
    "        dists += probdata.dist_PA_CL[PA_id, CL_id]\n",
    "\n",
    "    sol.fitness_dist_min = dists\n",
    "    sol.penalidade = penalties(sol, probdata)\n",
    "    sol.fitness_dist_min_penalizado = sol.fitness_dist_min + sol.penalidade\n",
    "    sol.porcentagem_CL_antendidos = nCL_atendidos / 495\n",
    "\n",
    "    return sol"
   ]
  },
  {
   "cell_type": "markdown",
   "metadata": {},
   "source": [
    "#### Shake Função Objetivo 1"
   ]
  },
  {
   "cell_type": "code",
   "execution_count": 654,
   "metadata": {},
   "outputs": [],
   "source": [
    "def shake_minPA(x: Solucao, k: int, probdata):\n",
    "    y = copy.deepcopy(x)\n",
    "    tres_menores_valores = sorted(y.nCL_por_PA.values())[:k]\n",
    "    chaves_correspondentes = []\n",
    "    for chave, valor in y.nCL_por_PA.items():\n",
    "        if valor in tres_menores_valores:\n",
    "            chaves_correspondentes.append(chave)\n",
    "    index = 0\n",
    "    keys = list(x.sol_PAs_ativos.keys())\n",
    "    generated_keys: Dict[int, int] = {}\n",
    "    while index < k:\n",
    "        \n",
    "        #chave_para_substituir = chaves_correspondentes[index]\n",
    "        key = random.choice(keys)\n",
    "        \n",
    "        failsafeIndex = 0\n",
    "        while (key in generated_keys) and (failsafeIndex < 10 or len(keys) > 3):\n",
    "            key = random.choice(keys)\n",
    "            failsafeIndex += 1\n",
    "        generated_keys[key] = 0\n",
    "    \n",
    "        y.sol_PAs_ativos.pop(key)\n",
    "        new_key = int(81**2 * random.random())\n",
    "        y.sol_PAs_ativos[new_key] = new_key\n",
    "        index += 1\n",
    "        \n",
    "    \n",
    "    if len(y.sol_PAs_ativos) <= 9:\n",
    "        while len(y.sol_PAs_ativos) < 30:\n",
    "            key = int(81**2 * random.random())\n",
    "            if not (key in y.sol_PAs_ativos):\n",
    "                y.sol_PAs_ativos[key] = key\n",
    "    \n",
    "    return y"
   ]
  },
  {
   "cell_type": "markdown",
   "metadata": {},
   "source": [
    "#### Shake Função Objetivo 2"
   ]
  },
  {
   "cell_type": "code",
   "execution_count": 655,
   "metadata": {},
   "outputs": [],
   "source": [
    "def shake_minDist(x: Solucao, k: int, probdata):\n",
    "    y = copy.deepcopy(x)\n",
    "    \n",
    "    index = 0\n",
    "    keys = list(x.sol_PAs_ativos.keys())\n",
    "    generated_keys: Dict[int, int] = {}\n",
    "    while index < k:\n",
    "        key = random.choice(keys)\n",
    "        while (key in generated_keys):\n",
    "            key = random.choice(keys)\n",
    "        \n",
    "        generated_keys[key] = 0\n",
    "    \n",
    "        y.sol_PAs_ativos.pop(key)\n",
    "        new_key = int(81**2 * random.random())\n",
    "        y.sol_PAs_ativos[new_key] = new_key\n",
    "        index += 1\n",
    "    \n",
    "    if len(y.sol_PAs_ativos) <= 18: ## VERIFICAR 18\n",
    "        while len(y.sol_PAs_ativos) < 30:\n",
    "            key = int(81**2 * random.random())\n",
    "            if not (key in y.sol_PAs_ativos):\n",
    "                y.sol_PAs_ativos[key] = key\n",
    "    \n",
    "    return y"
   ]
  },
  {
   "cell_type": "markdown",
   "metadata": {},
   "source": [
    "#### Neighborhood Change Função Objetivo 1"
   ]
  },
  {
   "cell_type": "code",
   "execution_count": 656,
   "metadata": {},
   "outputs": [],
   "source": [
    "def neighborhoodChange_minPA(x: Solucao, y: Solucao, k: int):\n",
    "    \n",
    "    if  (y.fitness_PA_min_penalizado < x.fitness_PA_min_penalizado or y.fitness_PA_min_penalizado == x.fitness_PA_min_penalizado and y.porcentagem_CL_antendidos > x.porcentagem_CL_antendidos):\n",
    "        x = copy.deepcopy(y)\n",
    "        k  = 1\n",
    "    else:\n",
    "        k += 1\n",
    "        \n",
    "    return x, k "
   ]
  },
  {
   "cell_type": "markdown",
   "metadata": {},
   "source": [
    "#### Neighborhood Change Função Objetivo 2"
   ]
  },
  {
   "cell_type": "code",
   "execution_count": 657,
   "metadata": {},
   "outputs": [],
   "source": [
    "def neighborhoodChange(x: Solucao, y: Solucao, k: int):\n",
    "    \n",
    "    if  (y.fitness_dist_min_penalizado < x.fitness_dist_min_penalizado or y.fitness_dist_min_penalizado == x.fitness_dist_min_penalizado and y.porcentagem_CL_antendidos > x.porcentagem_CL_antendidos):\n",
    "        x = copy.deepcopy(y)\n",
    "        k  = 1\n",
    "    else:\n",
    "        k += 1\n",
    "        \n",
    "    return x, k "
   ]
  },
  {
   "cell_type": "markdown",
   "metadata": {},
   "source": [
    "#### RVNS"
   ]
  },
  {
   "cell_type": "code",
   "execution_count": 658,
   "metadata": {},
   "outputs": [],
   "source": [
    "def RVNS_minPA(solucao_inicial: Solucao, dados: ProblemData, historico: Struct) -> Solucao:\n",
    "    # Contador do número de soluções candidatas avaliadas\n",
    "    num_sol_avaliadas = 1\n",
    "\n",
    "    # Máximo número de soluções candidatas avaliadas\n",
    "    max_num_sol_avaliadas = 2000\n",
    "\n",
    "    # Número de estruturas de vizinhanças definidas\n",
    "    kmax = 3\n",
    "\n",
    "    # Gera solução inicial\n",
    "    x = solucao_inicial\n",
    "\n",
    "    # Armazena dados para plot\n",
    "    historico.fit.append(x.fitness_PA_min)\n",
    "    historico.sol.append(x.sol_PAs_ativos)\n",
    "    historico.pen.append(x.penalidade)\n",
    "    historico.fit_pen.append(x.fitness_PA_min_penalizado)\n",
    "\n",
    "\n",
    "    # Ciclo iterativo do método\n",
    "    while num_sol_avaliadas < max_num_sol_avaliadas:\n",
    "        print(f\"Solução nº {num_sol_avaliadas}\\n\")\n",
    "\n",
    "        loopIndex = 0\n",
    "        k = 1\n",
    "        while k <= kmax:\n",
    "            \n",
    "            # Gera uma solução candidata na k-ésima vizinhança de x    \n",
    "            loopIndex += 1\n",
    "      \n",
    "            y = shake_minPA(x, k, dados)\n",
    "\n",
    "            y = fobj_minPA(y, dados)\n",
    "            num_sol_avaliadas += 1\n",
    "            y.id = num_sol_avaliadas\n",
    "            \n",
    "            # Atualiza solução corrente e estrutura de vizinhança (se necessário)\n",
    "            x, k = neighborhoodChange(x, y, k)\n",
    "            \n",
    "            # Armazena dados para plot\n",
    "            historico.fit.append(x.fitness_PA_min)\n",
    "            historico.sol.append(x.sol_PAs_ativos)\n",
    "            historico.pen.append(x.penalidade)\n",
    "            historico.fit_pen.append(x.fitness_PA_min_penalizado)\n",
    "    \n",
    "    return x"
   ]
  },
  {
   "cell_type": "markdown",
   "metadata": {},
   "source": [
    "#### BVNS"
   ]
  },
  {
   "cell_type": "code",
   "execution_count": 659,
   "metadata": {},
   "outputs": [],
   "source": [
    "def BVNS_minPA(solucao_inicial: Solucao, dados: ProblemData):\n",
    "    print(\"Starting BVNS process\\n\")\n",
    "\n",
    "    x = fobj_minPA(solucao_inicial, dados)\n",
    "    y = copy.deepcopy(x)\n",
    "\n",
    "    historico = Struct()\n",
    "    historico.fit = []\n",
    "    historico.sol = []\n",
    "    historico.pen = []\n",
    "    historico.fit_pen = []\n",
    "\n",
    "    numero_de_tentativas = 0\n",
    "    while numero_de_tentativas < 6:\n",
    "        numero_de_iteracoes_RVNS = 0\n",
    "        while x.fitness_PA_min_penalizado >= y.fitness_PA_min_penalizado and numero_de_iteracoes_RVNS < 5:\n",
    "            numero_de_iteracoes_RVNS += 1\n",
    "            print(f\"RVNS iteração nº {numero_de_iteracoes_RVNS}\\n\")\n",
    "            x = RVNS_minPA(y, dados, historico)\n",
    "            \n",
    "        y = copy.deepcopy(x)\n",
    "        numero_de_tentativas += 1\n",
    "\n",
    "    \n",
    "    return x, historico"
   ]
  },
  {
   "cell_type": "markdown",
   "metadata": {},
   "source": [
    "#### Execução"
   ]
  },
  {
   "cell_type": "code",
   "execution_count": 660,
   "metadata": {},
   "outputs": [
    {
     "name": "stdout",
     "output_type": "stream",
     "text": [
      "{2275: 1, 905: 1, 1053: 1, 1168: 1, 1881: 1, 2110: 1, 1232: 1, 1055: 1, 2047: 1, 1877: 1, 1717: 1, 3989: 1, 1321: 1, 1547: 1, 1216: 1, 1797: 1, 899: 1, 2126: 1, 2759: 1, 1402: 1, 1234: 1, 815: 1, 904: 1, 186: 1, 1255: 1, 579: 1, 2379: 1, 1465: 1, 1395: 1, 2444: 1, 343: 1, 1550: 1, 407: 1, 823: 1, 1559: 1, 2036: 1, 662: 1, 1802: 1, 2532: 1, 576: 1, 499: 1, 1801: 1, 1299: 1, 679: 1, 1387: 1, 1467: 1, 974: 1, 420: 1, 1635: 1, 1309: 1, 980: 1, 811: 1, 937: 1, 598: 1, 498: 1, 2364: 1, 1154: 1, 259: 1, 901: 1, 2212: 1, 896: 1, 2790: 1, 651: 1, 661: 1, 511: 1, 2285: 1, 1645: 1, 99: 1, 818: 1, 1883: 1, 267: 1, 1415: 1, 1716: 1, 2767: 1, 1793: 1, 2032: 1, 993: 1, 819: 1, 1390: 1, 580: 1, 2211: 1, 1967: 1, 2131: 1, 2360: 1, 1218: 1, 826: 1, 1719: 1, 2280: 1, 2026: 1, 2053: 1, 2529: 1, 1548: 1, 2296: 1, 1316: 1, 1947: 1, 184: 1, 2515: 1, 248: 1, 1476: 1, 1073: 1, 341: 1, 1546: 1, 1563: 1, 2459: 1, 1405: 1, 1792: 1, 1470: 1, 2517: 1, 2206: 1, 1315: 1, 1385: 1, 2779: 1, 1159: 1, 2048: 1, 575: 1, 1812: 1, 2190: 1, 822: 1, 2136: 1, 1473: 1, 1324: 1, 2699: 1, 2434: 1, 1065: 1, 1628: 1, 585: 1, 1081: 1, 827: 1, 2602: 1, 1798: 1, 1874: 1, 1711: 1, 1557: 1, 1153: 1, 1706: 1, 1062: 1, 979: 1, 1087: 1, 1223: 1, 1310: 1, 3328: 1, 349: 1, 421: 1, 1475: 1, 1240: 1, 752: 1, 1955: 1, 342: 1, 998: 1, 262: 1, 1495: 1, 1891: 1, 410: 1, 1230: 1, 2440: 1, 1554: 1, 2162: 1, 1195: 1, 2648: 1, 3960: 1, 2406: 1, 3201: 1, 2815: 1, 4049: 1, 2503: 1, 2982: 1, 5489: 1, 3944: 1, 1607: 1, 3940: 1, 1592: 1, 2651: 1, 2989: 1, 3618: 1, 2181: 1, 3289: 1, 4678: 1, 461: 1, 1437: 1, 4048: 1, 2337: 1, 2589: 1, 3717: 1, 5156: 1, 1211: 1, 1584: 1, 2586: 1, 2664: 1, 2752: 1, 2312: 1, 4030: 1, 1603: 1, 2900: 1, 3802: 1, 3071: 1, 1936: 1, 2820: 1, 2333: 1, 2003: 1, 4196: 1, 2405: 1, 2007: 1, 1775: 1, 2801: 1, 958: 1, 783: 1, 2910: 1, 1170: 1, 2143: 1, 3550: 1, 3707: 1, 4410: 1, 1498: 1, 3627: 1, 3065: 1, 4119: 1, 2914: 1, 3552: 1, 3951: 1, 2185: 1, 2160: 1, 1117: 1, 2572: 1, 3076: 1, 1839: 1, 2716: 1, 2250: 1, 2173: 1, 3549: 1, 3531: 1, 1431: 1, 2507: 1, 3383: 1, 1207: 1, 4851: 1, 2896: 1, 1980: 1, 3795: 1, 2807: 1, 1846: 1, 625: 1, 1927: 1, 3145: 1, 3370: 1, 1755: 1, 3609: 1, 3395: 1, 2502: 1, 1591: 1, 3595: 1, 1528: 1, 2974: 1, 3189: 1, 1035: 1, 4762: 1, 229: 1, 778: 1, 4040: 1, 3030: 1, 2172: 1, 2662: 1, 3465: 1, 1689: 1, 3698: 1, 3474: 1, 2570: 1, 2876: 1, 1923: 1, 1675: 1, 2237: 1, 3797: 1, 2414: 1, 2166: 1, 1514: 1, 1361: 1, 2671: 1, 3868: 1, 4034: 1, 3310: 1, 2330: 1, 2266: 1, 3056: 1, 3701: 1, 3801: 1, 214: 1, 2560: 1, 1517: 1, 2102: 1, 4602: 1, 1768: 1, 728: 1, 2821: 1, 2478: 1, 2182: 1, 3635: 1, 3303: 1, 3055: 1, 2324: 1, 3061: 1, 2321: 1, 2892: 1, 3283: 1, 3054: 1, 1917: 1, 2016: 1, 1448: 1, 3804: 1, 3393: 1, 2099: 1, 3132: 1, 4369: 1, 3692: 1, 2482: 1, 4829: 1, 5214: 1, 6029: 1, 5300: 1, 4739: 1, 5704: 1, 4248: 1, 5624: 1, 5486: 1, 4901: 1, 4721: 1, 4232: 1, 3661: 1, 4910: 1, 5856: 1, 4659: 1, 6517: 1, 4472: 1, 5641: 1, 4655: 1, 5315: 1, 6353: 1, 6190: 1, 4558: 1, 5783: 1, 4326: 1, 3824: 1, 3841: 1, 3508: 1, 5139: 1, 6338: 1, 6182: 1, 4002: 1, 5210: 1, 5868: 1, 6022: 1, 6503: 1, 6521: 1, 5951: 1, 4088: 1, 5223: 1, 4092: 1, 6198: 1, 6269: 1, 3591: 1, 5863: 1, 4985: 1, 4799: 1, 4481: 1, 6279: 1, 5548: 1, 5130: 1, 5538: 1, 6024: 1, 4484: 1, 4544: 1, 5779: 1, 6515: 1, 6294: 1, 5120: 1, 4157: 1, 3349: 1, 4478: 1, 6100: 1, 4792: 1, 5458: 1, 5373: 1, 3439: 1, 6270: 1, 5875: 1, 5232: 1, 6027: 1, 4556: 1, 5716: 1, 6268: 1, 4653: 1, 4396: 1, 5312: 1, 5058: 1, 5131: 1, 6252: 1, 5371: 1, 6421: 1, 5211: 1, 5138: 1, 5872: 1, 5542: 1, 5055: 1, 3924: 1, 4352: 1, 5705: 1, 5622: 1, 4017: 1, 5298: 1, 5614: 1, 4253: 1, 4402: 1, 3767: 1, 6010: 1, 3734: 1, 5128: 1, 4261: 1, 5299: 1, 4890: 1, 3837: 1, 5712: 1, 4735: 1, 5600: 1, 4161: 1, 4244: 1, 4235: 1, 5135: 1, 4805: 1, 6035: 1, 5129: 1, 5715: 1, 5702: 1, 5549: 1, 5401: 1, 6189: 1, 4259: 1, 6420: 1, 5801: 1, 4313: 1, 6106: 1, 6185: 1, 6339: 1, 4879: 1, 6437: 1, 5445: 1, 3988: 1, 4579: 1, 5945: 1, 6192: 1, 5133: 1, 4652: 1, 6028: 1, 4505: 1, 6263: 1, 4728: 1, 4172: 1, 6411: 1, 3430: 1, 5452: 1, 5540: 1, 4573: 1, 5713: 1, 5219: 1, 2957: 1, 3519: 1, 5203: 1, 6108: 1, 3903: 1, 5794: 1, 4725: 1, 5217: 1}\n",
      "Starting\n",
      "\n",
      "Starting BVNS process\n",
      "\n",
      "Penalidades executadas: 1-2"
     ]
    },
    {
     "ename": "KeyboardInterrupt",
     "evalue": "",
     "output_type": "error",
     "traceback": [
      "\u001b[1;31m---------------------------------------------------------------------------\u001b[0m",
      "\u001b[1;31mKeyboardInterrupt\u001b[0m                         Traceback (most recent call last)",
      "Cell \u001b[1;32mIn[660], line 10\u001b[0m\n\u001b[0;32m      8\u001b[0m \u001b[38;5;28;01mwhile\u001b[39;00m numero_de_execucoes \u001b[38;5;241m<\u001b[39m \u001b[38;5;241m5\u001b[39m:\n\u001b[0;32m      9\u001b[0m     \u001b[38;5;28mprint\u001b[39m(\u001b[38;5;124m\"\u001b[39m\u001b[38;5;124mStarting\u001b[39m\u001b[38;5;130;01m\\n\u001b[39;00m\u001b[38;5;124m\"\u001b[39m)\n\u001b[1;32m---> 10\u001b[0m     melhor_solucao, historico \u001b[38;5;241m=\u001b[39m \u001b[43mBVNS_minPA\u001b[49m\u001b[43m(\u001b[49m\u001b[43msolucao_inicial\u001b[49m\u001b[43m,\u001b[49m\u001b[43m \u001b[49m\u001b[43mdados\u001b[49m\u001b[43m)\u001b[49m\n\u001b[0;32m     11\u001b[0m     \u001b[38;5;28mprint\u001b[39m(\u001b[38;5;124mf\u001b[39m\u001b[38;5;124m'\u001b[39m\u001b[38;5;124mexecução = \u001b[39m\u001b[38;5;132;01m{\u001b[39;00mnumero_de_execucoes\u001b[38;5;132;01m}\u001b[39;00m\u001b[38;5;124m PAs = \u001b[39m\u001b[38;5;132;01m{\u001b[39;00mmelhor_solucao\u001b[38;5;241m.\u001b[39mfitness_PA_min\u001b[38;5;132;01m}\u001b[39;00m\u001b[38;5;124m Porcentagem de Clientes Atendidos = \u001b[39m\u001b[38;5;132;01m{\u001b[39;00mmelhor_solucao\u001b[38;5;241m.\u001b[39mporcentagem_CL_antendidos\u001b[38;5;132;01m}\u001b[39;00m\u001b[38;5;124m penalização = \u001b[39m\u001b[38;5;132;01m{\u001b[39;00mmelhor_solucao\u001b[38;5;241m.\u001b[39mfitness_PA_min_penalizado\u001b[38;5;132;01m}\u001b[39;00m\u001b[38;5;124m'\u001b[39m)\n\u001b[0;32m     12\u001b[0m     historicos_de_solucoes\u001b[38;5;241m.\u001b[39mappend(historico)\n",
      "Cell \u001b[1;32mIn[659], line 4\u001b[0m, in \u001b[0;36mBVNS_minPA\u001b[1;34m(solucao_inicial, dados)\u001b[0m\n\u001b[0;32m      1\u001b[0m \u001b[38;5;28;01mdef\u001b[39;00m \u001b[38;5;21mBVNS_minPA\u001b[39m(solucao_inicial: Solucao, dados: ProblemData):\n\u001b[0;32m      2\u001b[0m     \u001b[38;5;28mprint\u001b[39m(\u001b[38;5;124m\"\u001b[39m\u001b[38;5;124mStarting BVNS process\u001b[39m\u001b[38;5;130;01m\\n\u001b[39;00m\u001b[38;5;124m\"\u001b[39m)\n\u001b[1;32m----> 4\u001b[0m     x \u001b[38;5;241m=\u001b[39m \u001b[43mfobj_minPA\u001b[49m\u001b[43m(\u001b[49m\u001b[43msolucao_inicial\u001b[49m\u001b[43m,\u001b[49m\u001b[43m \u001b[49m\u001b[43mdados\u001b[49m\u001b[43m)\u001b[49m\n\u001b[0;32m      5\u001b[0m     y \u001b[38;5;241m=\u001b[39m copy\u001b[38;5;241m.\u001b[39mdeepcopy(x)\n\u001b[0;32m      7\u001b[0m     historico \u001b[38;5;241m=\u001b[39m Struct()\n",
      "Cell \u001b[1;32mIn[652], line 18\u001b[0m, in \u001b[0;36mfobj_minPA\u001b[1;34m(sol, probdata)\u001b[0m\n\u001b[0;32m     14\u001b[0m sol\u001b[38;5;241m.\u001b[39mnCL_por_PA \u001b[38;5;241m=\u001b[39m nCL_por_PA_local\n\u001b[0;32m     17\u001b[0m sol\u001b[38;5;241m.\u001b[39mfitness_PA_min \u001b[38;5;241m=\u001b[39m \u001b[38;5;28mlen\u001b[39m(sol\u001b[38;5;241m.\u001b[39msol_PAs_ativos)\n\u001b[1;32m---> 18\u001b[0m sol\u001b[38;5;241m.\u001b[39mpenalidade \u001b[38;5;241m=\u001b[39m \u001b[43mpenalties\u001b[49m\u001b[43m(\u001b[49m\u001b[43msol\u001b[49m\u001b[43m,\u001b[49m\u001b[43m \u001b[49m\u001b[43mprobdata\u001b[49m\u001b[43m)\u001b[49m\n\u001b[0;32m     19\u001b[0m sol\u001b[38;5;241m.\u001b[39mfitness_PA_min_penalizado \u001b[38;5;241m=\u001b[39m sol\u001b[38;5;241m.\u001b[39mfitness_PA_min \u001b[38;5;241m+\u001b[39m sol\u001b[38;5;241m.\u001b[39mfitness_PA_min_penalizado\n\u001b[0;32m     20\u001b[0m sol\u001b[38;5;241m.\u001b[39mporcentagem_CL_antendidos \u001b[38;5;241m=\u001b[39m nCL_atendidos \u001b[38;5;241m/\u001b[39m \u001b[38;5;241m495\u001b[39m\n",
      "Cell \u001b[1;32mIn[651], line 47\u001b[0m, in \u001b[0;36mpenalties\u001b[1;34m(sol, probdata)\u001b[0m\n\u001b[0;32m     44\u001b[0m             areTheyConnected \u001b[38;5;241m=\u001b[39m \u001b[38;5;241m1\u001b[39m\n\u001b[0;32m     46\u001b[0m         pen_dist[CL\u001b[38;5;241m.\u001b[39mid, i] \u001b[38;5;241m=\u001b[39m probdata\u001b[38;5;241m.\u001b[39mdist_PA_CL[PA\u001b[38;5;241m.\u001b[39mid, CL\u001b[38;5;241m.\u001b[39mid] \u001b[38;5;241m*\u001b[39m areTheyConnected \u001b[38;5;241m-\u001b[39m current_PA_ativo \u001b[38;5;241m*\u001b[39m probdata\u001b[38;5;241m.\u001b[39mPA_raio\n\u001b[1;32m---> 47\u001b[0m         pen_dist[CL\u001b[38;5;241m.\u001b[39mid, i] \u001b[38;5;241m=\u001b[39m \u001b[43mnp\u001b[49m\u001b[38;5;241;43m.\u001b[39;49m\u001b[43msum\u001b[49m\u001b[43m(\u001b[49m\u001b[43mnp\u001b[49m\u001b[38;5;241;43m.\u001b[39;49m\u001b[43mwhere\u001b[49m\u001b[43m(\u001b[49m\u001b[43mpen_dist\u001b[49m\u001b[43m[\u001b[49m\u001b[43mCL\u001b[49m\u001b[38;5;241;43m.\u001b[39;49m\u001b[43mid\u001b[49m\u001b[43m,\u001b[49m\u001b[43m \u001b[49m\u001b[43mi\u001b[49m\u001b[43m]\u001b[49m\u001b[43m \u001b[49m\u001b[38;5;241;43m<\u001b[39;49m\u001b[38;5;241;43m=\u001b[39;49m\u001b[43m \u001b[49m\u001b[38;5;241;43m0\u001b[39;49m\u001b[43m,\u001b[49m\u001b[43m \u001b[49m\u001b[38;5;241;43m0\u001b[39;49m\u001b[43m,\u001b[49m\u001b[43m \u001b[49m\u001b[43mpen_dist\u001b[49m\u001b[43m[\u001b[49m\u001b[43mCL\u001b[49m\u001b[38;5;241;43m.\u001b[39;49m\u001b[43mid\u001b[49m\u001b[43m,\u001b[49m\u001b[43m \u001b[49m\u001b[43mi\u001b[49m\u001b[43m]\u001b[49m\u001b[43m)\u001b[49m\u001b[38;5;241;43m*\u001b[39;49m\u001b[38;5;241;43m*\u001b[39;49m\u001b[38;5;241;43m2\u001b[39;49m\u001b[43m)\u001b[49m\n\u001b[0;32m     48\u001b[0m \u001b[38;5;28mprint\u001b[39m(\u001b[38;5;124m\"\u001b[39m\u001b[38;5;124m-3\u001b[39m\u001b[38;5;124m\"\u001b[39m, end\u001b[38;5;241m=\u001b[39m\u001b[38;5;124m\"\u001b[39m\u001b[38;5;124m\"\u001b[39m)\n\u001b[0;32m     50\u001b[0m \u001b[38;5;66;03m# pelo menos 5% de exposição à rede\u001b[39;00m\n",
      "File \u001b[1;32m<__array_function__ internals>:177\u001b[0m, in \u001b[0;36msum\u001b[1;34m(*args, **kwargs)\u001b[0m\n",
      "\u001b[1;31mKeyboardInterrupt\u001b[0m: "
     ]
    }
   ],
   "source": [
    "dados = probdef()\n",
    "solucao_inicial = sol_inicial(dados)\n",
    "print(solucao_inicial.sol_PAs_ativos)\n",
    "numero_de_execucoes = 0\n",
    "melhores_solucoes: List[Solucao] = []\n",
    "historicos_de_solucoes: List[Struct] = []\n",
    "\n",
    "while numero_de_execucoes < 5:\n",
    "    print(\"Starting\\n\")\n",
    "    melhor_solucao, historico = BVNS_minPA(solucao_inicial, dados)\n",
    "    print(f'execução = {numero_de_execucoes} PAs = {melhor_solucao.fitness_PA_min} Porcentagem de Clientes Atendidos = {melhor_solucao.porcentagem_CL_antendidos} penalização = {melhor_solucao.fitness_PA_min_penalizado}')\n",
    "    historicos_de_solucoes.append(historico)\n",
    "    melhores_solucoes.append(melhor_solucao)\n",
    "    numero_de_execucoes += 1"
   ]
  },
  {
   "cell_type": "markdown",
   "metadata": {},
   "source": [
    "#### Plot Evolução das soluções"
   ]
  },
  {
   "cell_type": "code",
   "execution_count": null,
   "metadata": {},
   "outputs": [],
   "source": [
    "fig, (ax1, ax2) = plt.subplots(2, 1)\n",
    "cores_historico = [f'#{random.randint(0, 0xFFFFFF):06x}' for _ in range(numero_de_execucoes)]\n",
    "index_historico = 0\n",
    "for historico in historicos_de_solucoes:\n",
    "    s = len(historico.fit_pen)\n",
    "    ax1.plot(np.linspace(0,s-1,s),historico.fit_pen,'k-', color=cores_historico[index_historico])\n",
    "    ax2.plot(np.linspace(0,s-1,s),historico.pen,'b:', color=cores_historico[index_historico])\n",
    "    index_historico += 1\n",
    "    \n",
    "fig.suptitle('Evolução da qualidade da solução candidata')\n",
    "ax1.set_ylabel('fitness(x) penalizado')\n",
    "ax2.set_ylabel('penalidade(x)')\n",
    "ax2.set_xlabel('Número de avaliações')\n",
    "plt.subplots_adjust(left=0.1,\n",
    "                        bottom=0.1, \n",
    "                        right=0.9, \n",
    "                        top=0.9, \n",
    "                        wspace=0.4, \n",
    "                        hspace=0.4)\n",
    "plt.show()"
   ]
  },
  {
   "cell_type": "markdown",
   "metadata": {},
   "source": [
    "#### Plot Resultados"
   ]
  },
  {
   "cell_type": "code",
   "execution_count": null,
   "metadata": {},
   "outputs": [],
   "source": [
    "def plot_triangulo(x, y, size, color):\n",
    "    plt.plot(x, y, marker='^', markersize=size, color=color, linestyle='None')\n",
    "\n",
    "# Função para plotar um círculo\n",
    "def plot_circulo(x, y, size, color):\n",
    "    plt.plot(x, y, marker='o', markersize=size, color=color, linestyle='None')\n",
    "    \n",
    "\n",
    "for x in melhores_solucoes:\n",
    "    # Gerar uma lista de cores aleatórias para os pontos de acesso\n",
    "    cores_pontos_acesso = [f'#{random.randint(0, 0xFFFFFF):06x}' for _ in range(len(x.sol_PAs_ativos))]\n",
    "\n",
    "    cores: Dict[int, str] = {}\n",
    "\n",
    "    index = 0\n",
    "    for ponto_de_acesso_id in x.nCL_por_PA:\n",
    "        cores[ponto_de_acesso_id] = cores_pontos_acesso[index]\n",
    "        index += 1\n",
    "\n",
    "    pontos_de_acessos_ativos: Dict[int, float] = {}\n",
    "        \n",
    "    for cliente_id, ponto_de_acesso_id in x.sol_PA_id_por_cliente.items():\n",
    "        if ponto_de_acesso_id != INVALID:\n",
    "            plot_triangulo(dados.PA_list[ponto_de_acesso_id].x, dados.PA_list[ponto_de_acesso_id].y, 10, color = cores[ponto_de_acesso_id])\n",
    "            plot_circulo(dados.CL_list[cliente_id].x, dados.CL_list[cliente_id].y, 5, color = cores[ponto_de_acesso_id])\n",
    "\n",
    "    # Configurar o gráfico\n",
    "    plt.xlabel('Coordenada X')\n",
    "    plt.ylabel('Coordenada Y')\n",
    "    label = f'Número de PAs {x.fitness_PA_min} Clientes Atendidos {x.porcentagem_CL_antendidos}'\n",
    "    plt.title(f'Pontos de Acesso e Clientes Atendidos \\n{label}')\n",
    "    plt.grid(True)\n",
    "\n",
    "    # Mostrar o gráfico\n",
    "    plt.show()\n"
   ]
  }
 ],
 "metadata": {
  "kernelspec": {
   "display_name": "Python 3",
   "language": "python",
   "name": "python3"
  },
  "language_info": {
   "codemirror_mode": {
    "name": "ipython",
    "version": 3
   },
   "file_extension": ".py",
   "mimetype": "text/x-python",
   "name": "python",
   "nbconvert_exporter": "python",
   "pygments_lexer": "ipython3",
   "version": "3.11.0"
  }
 },
 "nbformat": 4,
 "nbformat_minor": 2
}
