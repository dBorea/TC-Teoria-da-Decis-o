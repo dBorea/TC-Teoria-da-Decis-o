{
 "cells": [
  {
   "cell_type": "markdown",
   "metadata": {},
   "source": [
    "#### IMPORTS"
   ]
  },
  {
   "cell_type": "code",
   "execution_count": 895,
   "metadata": {},
   "outputs": [],
   "source": [
    "#Importa os módulos usados\n",
    "\n",
    "import numpy as np # type: ignore\n",
    "import matplotlib.pyplot as plt # type: ignore\n",
    "from typing import Dict, List\n",
    "import copy\n",
    "import random\n",
    "\n",
    "\n",
    "# Define um tipo de dado similar ao Pascal \"record\" or C \"struct\"\n",
    "\n",
    "class Struct:\n",
    "    pass\n",
    "\n",
    "INVALID: int = -1"
   ]
  },
  {
   "cell_type": "markdown",
   "metadata": {},
   "source": [
    "#### Utils de leitura do CSV"
   ]
  },
  {
   "cell_type": "code",
   "execution_count": 896,
   "metadata": {},
   "outputs": [],
   "source": [
    "class Cliente:\n",
    "    def __init__(self, x, y, consumo_banda):\n",
    "        self.x = x\n",
    "        self.y = y\n",
    "        self.consumo_banda = consumo_banda\n",
    "        self.connected_PA_id = INVALID\n",
    "        self.id = INVALID\n",
    "\n",
    "    def __repr__(self):\n",
    "        return f\"Cliente(x={self.x}, y={self.y}, consumo_banda={self.consumo_banda})\"\n",
    "\n",
    "# Função para ler os clientes do arquivo\n",
    "def ler_clientes(nome_arquivo):\n",
    "    clientes = []\n",
    "    with open(nome_arquivo, 'r') as arquivo:\n",
    "        linhas = arquivo.readlines()\n",
    "        for linha in linhas:\n",
    "            x, y, consumo_banda = map(float, linha.strip().split(','))\n",
    "            cliente = Cliente(x, y, consumo_banda)\n",
    "            clientes.append(cliente)\n",
    "\n",
    "        index = 0\n",
    "        for cliente in clientes:\n",
    "            cliente.id = index\n",
    "            index += 1\n",
    "\n",
    "    return clientes"
   ]
  },
  {
   "cell_type": "code",
   "execution_count": 897,
   "metadata": {},
   "outputs": [],
   "source": [
    "def clientProcessing(clientList, nCL=495, nPA=81**2):\n",
    "\n",
    "    cons = np.zeros(nCL)\n",
    "    dist = np.zeros((nCL, nPA))\n",
    "    exp = np.zeros((nCL, nPA))\n",
    "\n",
    "    cl_index = 0\n",
    "    for cliente in clientList:\n",
    "        cons[cl_index] = cliente.consumo_banda\n",
    "\n",
    "        for PA_index in range(nPA):\n",
    "            PA_x = (PA_index % 81) * 5\n",
    "            PA_y = (PA_index // 81) * 5\n",
    "            \n",
    "            dist[cl_index, PA_index] = np.sqrt((cliente.x - PA_x)**2 + (cliente.y - PA_y)**2)\n",
    "            exp[cl_index, PA_index] = 1/dist[cl_index, PA_index]\n",
    "\n",
    "        cl_index += 1\n",
    "\n",
    "    return cons, dist, exp"
   ]
  },
  {
   "cell_type": "markdown",
   "metadata": {},
   "source": [
    "#### Classe Solução"
   ]
  },
  {
   "cell_type": "code",
   "execution_count": 898,
   "metadata": {},
   "outputs": [],
   "source": [
    "class Solucao:\n",
    "    id: int = 0\n",
    "    sol_PAs_ativos: Dict[int, int] = {}\n",
    "    sol_PA_id_por_cliente: Dict[int, int] = {}\n",
    "    fitness_PA_min: float = 0\n",
    "    fitness_PA_min_penalizado: float = 0\n",
    "    penalidade: float = 0\n",
    "    fitness_dist_min: float = 0\n",
    "    fitness_dist_min_penalizado: float = 0\n",
    "    porcentagem_CL_antendidos = 0\n",
    "    nCL_por_PA: Dict[int, int] = {}\n",
    "\n",
    "    def __init__(self) -> None:\n",
    "        self.id: int = 0\n",
    "        self.sol_PAs_ativos: Dict[int, int] = {}\n",
    "        self.sol_PA_id_por_cliente: Dict[int, int] = {}\n",
    "        self.fitness_PA_min: float = 0\n",
    "        self.fitness_PA_min_penalizado: float = 0\n",
    "        self.fitness_dist_min: float = 0\n",
    "        self.fitness_dist_min_penalizado: float = 0\n",
    "        self.porcentagem_CL_antendidos = 0\n",
    "        self.nCL_por_PA: Dict[int, int] = {}"
   ]
  },
  {
   "cell_type": "markdown",
   "metadata": {},
   "source": [
    "#### Dados do problema"
   ]
  },
  {
   "cell_type": "code",
   "execution_count": 899,
   "metadata": {},
   "outputs": [],
   "source": [
    "class AccessPoint:\n",
    "    id: int = 0\n",
    "    x: int = 0\n",
    "    y: int = 0\n",
    "    nCL_in_range: int = 0\n",
    "\n",
    "    def __init__(self, x: int, y: int, index: int) -> None:\n",
    "        self.x = x\n",
    "        self.y = y\n",
    "        self.id = index\n",
    "        self.nCL_in_range: int = 0\n",
    "        pass"
   ]
  },
  {
   "cell_type": "code",
   "execution_count": 900,
   "metadata": {},
   "outputs": [],
   "source": [
    "class ProblemData:\n",
    "    PA_list: List[AccessPoint] = []\n",
    "    CL_list: List[Cliente] = []\n",
    "    dist_PA_CL: Dict[int, Dict[int, float]] = np.empty((81**2, 495))\n",
    "    min_CL_rate: float = 0.05\n",
    "    nCL: int = 495\n",
    "    nPA: int = 81**2"
   ]
  },
  {
   "cell_type": "code",
   "execution_count": 901,
   "metadata": {},
   "outputs": [],
   "source": [
    "def probdef(nPA=81**2, nCL=495):\n",
    "    \n",
    "    probdata = ProblemData()\n",
    "\n",
    "    # Uso da função para ler os clientes do arquivo\n",
    "    probdata.CL_list = ler_clientes('data/clientes.csv')\n",
    "\n",
    "    for id in range(0, nPA):\n",
    "        PA_x = (id % 81) * 5\n",
    "        PA_y = (id // 81) * 5\n",
    "        probdata.PA_list.append(AccessPoint(PA_x, PA_y, id))\n",
    "\n",
    "    for PA in probdata.PA_list:\n",
    "        for CL in probdata.CL_list:\n",
    "            probdata.dist_PA_CL[PA.id][CL.id] = ((PA.x - CL.x)**2 + (PA.y - CL.y)**2) ** 0.5\n",
    "\n",
    "            if(probdata.dist_PA_CL[PA.id][CL.id] <= 84):\n",
    "                PA.nCL_in_range += 1\n",
    "    \n",
    "    probdata.PA_cap = 54 # em Mbps\n",
    "    probdata.PA_raio = 84 # em metros\n",
    "    probdata.CL_min_p = 0.05 # porcentagem minima de clientes\n",
    "    probdata.nPA_max = 30\n",
    "\n",
    "    return probdata"
   ]
  },
  {
   "cell_type": "markdown",
   "metadata": {},
   "source": [
    "#### Solução inicial"
   ]
  },
  {
   "cell_type": "code",
   "execution_count": 902,
   "metadata": {},
   "outputs": [],
   "source": [
    "# heuristica inserção mais proxima\n",
    "# Solução inicial\n",
    "def sol_inicial(probdata):\n",
    "    sol = Solucao()\n",
    "    \n",
    "     # Calcular distância euclidiana entre clientes e pontos de acesso\n",
    "    distancias = np.zeros((probdata.nCL, probdata.nPA))\n",
    "    for i, CL in enumerate(probdata.CL_list):\n",
    "        for j, PA in enumerate(probdata.PA_list):\n",
    "            distancias[i, j] = np.sqrt((CL.x - PA.x) ** 2 + (CL.y - PA.y) ** 2)\n",
    "\n",
    "    # Atribuir cada cliente ao ponto de acesso mais próximo\n",
    "    for j in range(len(probdata.CL_list)):\n",
    "        distancias_cliente = distancias[j]\n",
    "        pa_mais_proximo = np.argmin(distancias_cliente)\n",
    "        sol.sol_PA_id_por_cliente[j] = pa_mais_proximo  # Dá o PA mais proximo como ativo para o cliente j\n",
    "        sol.sol_PAs_ativos[pa_mais_proximo] = 1  # Ativa o PA mais próximo\n",
    "\n",
    "    return sol"
   ]
  },
  {
   "cell_type": "markdown",
   "metadata": {},
   "source": [
    "#### Função Penalidades Generalizadas"
   ]
  },
  {
   "cell_type": "code",
   "execution_count": 903,
   "metadata": {},
   "outputs": [],
   "source": [
    "# Função de penalidades para todas as restrições\n",
    "def penalties(sol: Solucao, probdata: ProblemData):\n",
    "\n",
    "    # Calcula a lista de clientes conectados para cada ponto de acesso\n",
    "    connected_clients = {i: [k for k, v in sol.sol_PA_id_por_cliente.items() if v == i] for i in range(probdata.nPA)}\n",
    "    # Pré-calcular current_PA_ativo para cada ponto de acesso\n",
    "    current_PA_ativo = {PA.id: 1 if PA.id in sol.sol_PAs_ativos else 0 for PA in probdata.PA_list}\n",
    "\n",
    "    # percentual mínimo de clientes\n",
    "    pen_CLmin = probdata.nCL * probdata.CL_min_p - np.sum(list(sol.sol_PAs_ativos.values()))\n",
    "    pen_CLmin = 0 if pen_CLmin <0 else pen_CLmin\n",
    "\n",
    "    # limite de consumo dos PAs\n",
    "    pen_PAcap = np.zeros(probdata.nPA)\n",
    "    # Preparar matriz para pen_dist\n",
    "    pen_dist = np.zeros((probdata.nCL, probdata.nPA))\n",
    "    # Iterar sobre os pontos de acesso e clientes conectados\n",
    "    for i in range(probdata.nPA):\n",
    "        CLs_ids = connected_clients[i]\n",
    "        consumo_total = sum(CL.consumo_banda for j, CL in enumerate(probdata.CL_list) if j in CLs_ids)\n",
    "        pen_PAcap[i] = consumo_total - current_PA_ativo[i] * probdata.PA_cap\n",
    "        pen_PAcap[i] = 0 if pen_PAcap[i] <0 else pen_PAcap[i]\n",
    "\n",
    "        # limite de distância entre PAs e clientes\n",
    "        areTheyConnected = np.zeros(probdata.nCL)\n",
    "        areTheyConnected[CLs_ids] = 1\n",
    "        pen_dist[:, i] = probdata.dist_PA_CL[i] * areTheyConnected - current_PA_ativo[i] * probdata.PA_raio\n",
    "        pen_dist[:, i] = np.sum(np.where(pen_dist[:, i] <= 0, 0, pen_dist[:, i]))\n",
    "    \n",
    "    # pelo menos 5% de exposição à rede\n",
    "    pen_Expmin = np.zeros(probdata.nCL)\n",
    "    for i, CL in enumerate(probdata.CL_list):\n",
    "        totalExposure: float = 0\n",
    "        for j in sol.sol_PAs_ativos.keys():\n",
    "            totalExposure += 1/probdata.dist_PA_CL[j, CL.id]\n",
    "\n",
    "        pen_Expmin[i] = 0.05 * 1 - totalExposure\n",
    "        pen_Expmin[i] = 0 if pen_Expmin[i] <0 else pen_Expmin[i]\n",
    "\n",
    "    # número máximo de PAs\n",
    "    pen_PAmax = sum(sol.sol_PAs_ativos.values()) - probdata.nPA_max\n",
    "    pen_PAmax = 0 if pen_PAmax <0 else pen_PAmax\n",
    "\n",
    "    # return all multiplied by U\n",
    "    return 1000 * (pen_CLmin  + sum(pen_dist) + sum(pen_Expmin)  + pen_PAmax + sum(pen_PAcap))"
   ]
  },
  {
   "cell_type": "markdown",
   "metadata": {},
   "source": [
    "#### Funçao Objetivo 1: Minimizar número de PAs ativos"
   ]
  },
  {
   "cell_type": "code",
   "execution_count": 904,
   "metadata": {},
   "outputs": [],
   "source": [
    "# Função objetivo 1: Minimizar número de PAs ativos\n",
    "def fobj_minPA(sol: Solucao, probdata):\n",
    "\n",
    "    nCL_por_PA_local: Dict[int, int] = {}\n",
    "    nCL_atendidos: int = 0\n",
    "    for CL in probdata.CL_list:\n",
    "        if sol.sol_PA_id_por_cliente[CL.id] != INVALID:\n",
    "            nCL_atendidos += 1\n",
    "            if sol.sol_PA_id_por_cliente[CL.id] in nCL_por_PA_local:\n",
    "                nCL_por_PA_local[sol.sol_PA_id_por_cliente[CL.id]] += 1\n",
    "            else:\n",
    "                nCL_por_PA_local[sol.sol_PA_id_por_cliente[CL.id]] = 1\n",
    "    \n",
    "    sol.nCL_por_PA = nCL_por_PA_local\n",
    "\n",
    "\n",
    "    sol.fitness_PA_min = len(sol.sol_PAs_ativos)\n",
    "    sol.penalidade = penalties(sol, probdata)\n",
    "    sol.fitness_PA_min_penalizado = sol.fitness_PA_min + sol.fitness_PA_min_penalizado\n",
    "    sol.porcentagem_CL_antendidos = nCL_atendidos / 495\n",
    "\n",
    "    return sol"
   ]
  },
  {
   "cell_type": "markdown",
   "metadata": {},
   "source": [
    "#### Função Objetivo 2: Minimizar distâncias entre clientes e PAs"
   ]
  },
  {
   "cell_type": "code",
   "execution_count": 905,
   "metadata": {},
   "outputs": [],
   "source": [
    "# Função objetivo 2: Minimizar distância cumulativa de clientes e PAs\n",
    "def fobj_minDist(sol: Solucao, probdata):\n",
    "\n",
    "    nCL_por_PA_local: Dict[int, int] = {}\n",
    "    nCL_atendidos: int = 0\n",
    "    for CL in probdata.CL_list:\n",
    "        if sol.sol_PA_id_por_cliente[CL.id] != INVALID:\n",
    "            nCL_atendidos += 1\n",
    "            if sol.sol_PA_id_por_cliente[CL.id] in nCL_por_PA_local:\n",
    "                nCL_por_PA_local[sol.sol_PA_id_por_cliente[CL.id]] += 1\n",
    "            else:\n",
    "                nCL_por_PA_local[sol.sol_PA_id_por_cliente[CL.id]] = 1\n",
    "    \n",
    "    sol.nCL_por_PA = nCL_por_PA_local\n",
    "\n",
    "    dists: float = 0\n",
    "\n",
    "    for CL_id, PA_id in sol.sol_PA_id_por_cliente.items():\n",
    "        dists += probdata.dist_PA_CL[PA_id, CL_id]\n",
    "\n",
    "    sol.fitness_dist_min = dists\n",
    "    sol.penalidade = penalties(sol, probdata)\n",
    "    sol.fitness_dist_min_penalizado = sol.fitness_dist_min + sol.penalidade\n",
    "    sol.porcentagem_CL_antendidos = nCL_atendidos / 495\n",
    "\n",
    "    return sol"
   ]
  },
  {
   "cell_type": "markdown",
   "metadata": {},
   "source": [
    "#### Shake Função Objetivo 1"
   ]
  },
  {
   "cell_type": "code",
   "execution_count": 906,
   "metadata": {},
   "outputs": [],
   "source": [
    "def shake_minPA(x: Solucao, k: int, probdata):\n",
    "    y = copy.deepcopy(x)\n",
    "    tres_menores_valores = sorted(y.nCL_por_PA.values())[:k]\n",
    "    chaves_correspondentes = []\n",
    "    for chave, valor in y.nCL_por_PA.items():\n",
    "        if valor in tres_menores_valores:\n",
    "            chaves_correspondentes.append(chave)\n",
    "    index = 0\n",
    "    keys = list(x.sol_PAs_ativos.keys())\n",
    "    generated_keys: Dict[int, int] = {}\n",
    "    while index < k:\n",
    "        \n",
    "        #chave_para_substituir = chaves_correspondentes[index]\n",
    "        key = random.choice(keys)\n",
    "        \n",
    "        failsafeIndex = 0\n",
    "        while (key in generated_keys) and (failsafeIndex < 10 or len(keys) > 3):\n",
    "            key = random.choice(keys)\n",
    "            failsafeIndex += 1\n",
    "        generated_keys[key] = 0\n",
    "    \n",
    "        y.sol_PAs_ativos.pop(key)\n",
    "        new_key = int(81**2 * random.random())\n",
    "        y.sol_PAs_ativos[new_key] = new_key\n",
    "        index += 1\n",
    "        \n",
    "    \n",
    "    if len(y.sol_PAs_ativos) <= 9:\n",
    "        while len(y.sol_PAs_ativos) < 30:\n",
    "            key = int(81**2 * random.random())\n",
    "            if not (key in y.sol_PAs_ativos):\n",
    "                y.sol_PAs_ativos[key] = key\n",
    "    \n",
    "    return y"
   ]
  },
  {
   "cell_type": "markdown",
   "metadata": {},
   "source": [
    "#### Shake Função Objetivo 2"
   ]
  },
  {
   "cell_type": "code",
   "execution_count": 907,
   "metadata": {},
   "outputs": [],
   "source": [
    "def shake_minDist(x: Solucao, k: int, probdata):\n",
    "    y = copy.deepcopy(x)\n",
    "    \n",
    "    index = 0\n",
    "    keys = list(x.sol_PAs_ativos.keys())\n",
    "    generated_keys: Dict[int, int] = {}\n",
    "    while index < k:\n",
    "        key = random.choice(keys)\n",
    "        while (key in generated_keys):\n",
    "            key = random.choice(keys)\n",
    "        \n",
    "        generated_keys[key] = 0\n",
    "    \n",
    "        y.sol_PAs_ativos.pop(key)\n",
    "        new_key = int(81**2 * random.random())\n",
    "        y.sol_PAs_ativos[new_key] = new_key\n",
    "        index += 1\n",
    "    \n",
    "    if len(y.sol_PAs_ativos) <= 18: ## VERIFICAR 18\n",
    "        while len(y.sol_PAs_ativos) < 30:\n",
    "            key = int(81**2 * random.random())\n",
    "            if not (key in y.sol_PAs_ativos):\n",
    "                y.sol_PAs_ativos[key] = key\n",
    "    \n",
    "    return y"
   ]
  },
  {
   "cell_type": "markdown",
   "metadata": {},
   "source": [
    "#### Neighborhood Change Função Objetivo 1"
   ]
  },
  {
   "cell_type": "code",
   "execution_count": 908,
   "metadata": {},
   "outputs": [],
   "source": [
    "def neighborhoodChange_minPA(x: Solucao, y: Solucao, k: int):\n",
    "    \n",
    "    if  (y.fitness_PA_min_penalizado < x.fitness_PA_min_penalizado or y.fitness_PA_min_penalizado == x.fitness_PA_min_penalizado and y.porcentagem_CL_antendidos > x.porcentagem_CL_antendidos):\n",
    "        x = copy.deepcopy(y)\n",
    "        k  = 1\n",
    "    else:\n",
    "        k += 1\n",
    "        \n",
    "    return x, k "
   ]
  },
  {
   "cell_type": "markdown",
   "metadata": {},
   "source": [
    "#### Neighborhood Change Função Objetivo 2"
   ]
  },
  {
   "cell_type": "code",
   "execution_count": 909,
   "metadata": {},
   "outputs": [],
   "source": [
    "def neighborhoodChange(x: Solucao, y: Solucao, k: int):\n",
    "    \n",
    "    if  (y.fitness_dist_min_penalizado < x.fitness_dist_min_penalizado or y.fitness_dist_min_penalizado == x.fitness_dist_min_penalizado and y.porcentagem_CL_antendidos > x.porcentagem_CL_antendidos):\n",
    "        x = copy.deepcopy(y)\n",
    "        k  = 1\n",
    "    else:\n",
    "        k += 1\n",
    "        \n",
    "    return x, k "
   ]
  },
  {
   "cell_type": "markdown",
   "metadata": {},
   "source": [
    "#### RVNS"
   ]
  },
  {
   "cell_type": "code",
   "execution_count": 910,
   "metadata": {},
   "outputs": [],
   "source": [
    "def RVNS_minPA(solucao_inicial: Solucao, dados: ProblemData, historico: Struct) -> Solucao:\n",
    "    # Contador do número de soluções candidatas avaliadas\n",
    "    num_sol_avaliadas = 1\n",
    "\n",
    "    # Máximo número de soluções candidatas avaliadas\n",
    "    max_num_sol_avaliadas = 1000\n",
    "\n",
    "    # Número de estruturas de vizinhanças definidas\n",
    "    kmax = 3\n",
    "\n",
    "    # Gera solução inicial\n",
    "    x = solucao_inicial\n",
    "\n",
    "    # Armazena dados para plot\n",
    "    historico.fit.append(x.fitness_PA_min)\n",
    "    historico.sol.append(x.sol_PAs_ativos)\n",
    "    historico.pen.append(x.penalidade)\n",
    "    historico.fit_pen.append(x.fitness_PA_min_penalizado)\n",
    "\n",
    "\n",
    "    # Ciclo iterativo do método\n",
    "    while num_sol_avaliadas < max_num_sol_avaliadas:\n",
    "        print(f\"Solução nº {num_sol_avaliadas}\\n\")\n",
    "\n",
    "        loopIndex = 0\n",
    "        k = 1\n",
    "        while k <= kmax:\n",
    "            \n",
    "            # Gera uma solução candidata na k-ésima vizinhança de x    \n",
    "            loopIndex += 1\n",
    "      \n",
    "            y = shake_minPA(x, k, dados)\n",
    "\n",
    "            y = fobj_minPA(y, dados)\n",
    "            num_sol_avaliadas += 1\n",
    "            y.id = num_sol_avaliadas\n",
    "            \n",
    "            # Atualiza solução corrente e estrutura de vizinhança (se necessário)\n",
    "            x, k = neighborhoodChange(x, y, k)\n",
    "            \n",
    "            # Armazena dados para plot\n",
    "            historico.fit.append(x.fitness_PA_min)\n",
    "            historico.sol.append(x.sol_PAs_ativos)\n",
    "            historico.pen.append(x.penalidade)\n",
    "            historico.fit_pen.append(x.fitness_PA_min_penalizado)\n",
    "    \n",
    "    return x"
   ]
  },
  {
   "cell_type": "markdown",
   "metadata": {},
   "source": [
    "#### BVNS"
   ]
  },
  {
   "cell_type": "code",
   "execution_count": 911,
   "metadata": {},
   "outputs": [],
   "source": [
    "def BVNS_minPA(solucao_inicial: Solucao, dados: ProblemData):\n",
    "    # print(\"Starting BVNS process\\n\")\n",
    "\n",
    "    x = fobj_minPA(solucao_inicial, dados)\n",
    "    y = copy.deepcopy(x)\n",
    "\n",
    "    historico = Struct()\n",
    "    historico.fit = []\n",
    "    historico.sol = []\n",
    "    historico.pen = []\n",
    "    historico.fit_pen = []\n",
    "\n",
    "    numero_de_tentativas = 0\n",
    "    while numero_de_tentativas < 3:\n",
    "        numero_de_iteracoes_RVNS = 0\n",
    "        while x.fitness_PA_min_penalizado >= y.fitness_PA_min_penalizado and numero_de_iteracoes_RVNS < 5:\n",
    "            numero_de_iteracoes_RVNS += 1\n",
    "            # print(f\"RVNS iteração nº {numero_de_iteracoes_RVNS}\\n\")\n",
    "            x = RVNS_minPA(y, dados, historico)\n",
    "            \n",
    "        y = copy.deepcopy(x)\n",
    "        numero_de_tentativas += 1\n",
    "\n",
    "    \n",
    "    return x, historico"
   ]
  },
  {
   "cell_type": "markdown",
   "metadata": {},
   "source": [
    "#### Execução"
   ]
  },
  {
   "cell_type": "code",
   "execution_count": null,
   "metadata": {},
   "outputs": [],
   "source": [
    "dados = probdef()\n",
    "solucao_inicial = sol_inicial(dados)\n",
    "print(solucao_inicial.sol_PAs_ativos)\n",
    "numero_de_execucoes = 0\n",
    "melhores_solucoes: List[Solucao] = []\n",
    "historicos_de_solucoes: List[Struct] = []\n",
    "\n",
    "while numero_de_execucoes < 5:\n",
    "    print(\"Starting\\n\")\n",
    "    melhor_solucao, historico = BVNS_minPA(solucao_inicial, dados)\n",
    "    print(f'execução = {numero_de_execucoes} PAs = {melhor_solucao.fitness_PA_min} Porcentagem de Clientes Atendidos = {melhor_solucao.porcentagem_CL_antendidos} penalização = {melhor_solucao.fitness_PA_min_penalizado}')\n",
    "    historicos_de_solucoes.append(historico)\n",
    "    melhores_solucoes.append(melhor_solucao)\n",
    "    numero_de_execucoes += 1"
   ]
  },
  {
   "cell_type": "markdown",
   "metadata": {},
   "source": [
    "#### Plot Evolução das soluções"
   ]
  },
  {
   "cell_type": "code",
   "execution_count": null,
   "metadata": {},
   "outputs": [],
   "source": [
    "fig, (ax1, ax2) = plt.subplots(2, 1)\n",
    "cores_historico = [f'#{random.randint(0, 0xFFFFFF):06x}' for _ in range(numero_de_execucoes)]\n",
    "index_historico = 0\n",
    "for historico in historicos_de_solucoes:\n",
    "    s = len(historico.fit_pen)\n",
    "    ax1.plot(np.linspace(0,s-1,s),historico.fit_pen,'k-', color=cores_historico[index_historico])\n",
    "    ax2.plot(np.linspace(0,s-1,s),historico.pen,'b:', color=cores_historico[index_historico])\n",
    "    index_historico += 1\n",
    "    \n",
    "fig.suptitle('Evolução da qualidade da solução candidata')\n",
    "ax1.set_ylabel('fitness(x) penalizado')\n",
    "ax2.set_ylabel('penalidade(x)')\n",
    "ax2.set_xlabel('Número de avaliações')\n",
    "plt.subplots_adjust(left=0.1,\n",
    "                        bottom=0.1, \n",
    "                        right=0.9, \n",
    "                        top=0.9, \n",
    "                        wspace=0.4, \n",
    "                        hspace=0.4)\n",
    "plt.show()"
   ]
  },
  {
   "cell_type": "markdown",
   "metadata": {},
   "source": [
    "#### Plot Resultados"
   ]
  },
  {
   "cell_type": "code",
   "execution_count": null,
   "metadata": {},
   "outputs": [],
   "source": [
    "def plot_triangulo(x, y, size, color):\n",
    "    plt.plot(x, y, marker='^', markersize=size, color=color, linestyle='None')\n",
    "\n",
    "# Função para plotar um círculo\n",
    "def plot_circulo(x, y, size, color):\n",
    "    plt.plot(x, y, marker='o', markersize=size, color=color, linestyle='None')\n",
    "    \n",
    "\n",
    "for x in melhores_solucoes:\n",
    "    # Gerar uma lista de cores aleatórias para os pontos de acesso\n",
    "    cores_pontos_acesso = [f'#{random.randint(0, 0xFFFFFF):06x}' for _ in range(len(x.sol_PAs_ativos))]\n",
    "\n",
    "    cores: Dict[int, str] = {}\n",
    "\n",
    "    index = 0\n",
    "    for ponto_de_acesso_id in x.nCL_por_PA:\n",
    "        cores[ponto_de_acesso_id] = cores_pontos_acesso[index]\n",
    "        index += 1\n",
    "\n",
    "    pontos_de_acessos_ativos: Dict[int, float] = {}\n",
    "        \n",
    "    for cliente_id, ponto_de_acesso_id in x.sol_PA_id_por_cliente.items():\n",
    "        if ponto_de_acesso_id != INVALID:\n",
    "            plot_triangulo(dados.PA_list[ponto_de_acesso_id].x, dados.PA_list[ponto_de_acesso_id].y, 10, color = cores[ponto_de_acesso_id])\n",
    "            plot_circulo(dados.CL_list[cliente_id].x, dados.CL_list[cliente_id].y, 5, color = cores[ponto_de_acesso_id])\n",
    "\n",
    "    # Configurar o gráfico\n",
    "    plt.xlabel('Coordenada X')\n",
    "    plt.ylabel('Coordenada Y')\n",
    "    label = f'Número de PAs {x.fitness_PA_min} Clientes Atendidos {x.porcentagem_CL_antendidos}'\n",
    "    plt.title(f'Pontos de Acesso e Clientes Atendidos \\n{label}')\n",
    "    plt.grid(True)\n",
    "\n",
    "    # Mostrar o gráfico\n",
    "    plt.show()\n"
   ]
  }
 ],
 "metadata": {
  "kernelspec": {
   "display_name": "Python 3",
   "language": "python",
   "name": "python3"
  },
  "language_info": {
   "codemirror_mode": {
    "name": "ipython",
    "version": 3
   },
   "file_extension": ".py",
   "mimetype": "text/x-python",
   "name": "python",
   "nbconvert_exporter": "python",
   "pygments_lexer": "ipython3",
   "version": "3.11.0"
  }
 },
 "nbformat": 4,
 "nbformat_minor": 2
}
